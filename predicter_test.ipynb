{
 "cells": [
  {
   "cell_type": "markdown",
   "metadata": {},
   "source": [
    "# MeterReader - The Predicter\n",
    "\n",
    "This notebok tests the prediction using the python class defined in predicter.py \n",
    "\n"
   ]
  },
  {
   "cell_type": "markdown",
   "metadata": {},
   "source": [
    "## Setup\n",
    "\n",
    "Import the libraries and load the pretrained models used to   predict the meter values\n",
    "\n",
    "Note: The training was done on a MacMini (2024) with a M4 Processor\n",
    "\n"
   ]
  },
  {
   "cell_type": "code",
   "execution_count": 1,
   "metadata": {},
   "outputs": [
    {
     "name": "stdout",
     "output_type": "stream",
     "text": [
      "Device used for training: mps\n"
     ]
    }
   ],
   "source": [
    "# Uses the Ultralytics YOLOv11 Libraries\n",
    "from ultralytics import YOLO\n",
    "import torch\n",
    "\n",
    "from  predict_helpers import *\n",
    "\n",
    "# Check to see if running on a Mac or not (Apple Silicon)\n",
    "device_to_use = 'cpu'\n",
    "\n",
    "if torch.backends.mps.is_available():\n",
    "    device_to_use = 'mps' # Apple Silicon\n",
    "\n",
    "print(f\"Device used for training: {device_to_use}\")\n",
    "\n",
    "# Load the three different models\n",
    "\n",
    "project_name=\"meterreader_YOLO\"\n",
    "\n",
    "run_name_frame = \"meter-frame-1\"\n",
    "run_name_counter= \"meter-counter-640-1\"\n",
    "run_name_digits = \"meter-digits-3\"\n",
    "\n",
    "model_path_digits = f\"{project_name}/{run_name_digits}/weights/best.pt\"\n",
    "model_path_frame = f\"{project_name}/{run_name_frame}/weights/best.pt\"\n",
    "model_path_counter= f\"{project_name}/{run_name_counter}/weights/best.pt\"\n",
    "\n",
    "# load the models\n",
    "model_frame = YOLO(model_path_frame) # Detect the main white frame of the electricity meter\n",
    "model_counter = YOLO(model_path_counter) # Detect the counter frame on the image\n",
    "model_digits = YOLO(model_path_digits) # Detect the value of the counter (the digits)\n",
    "\n",
    "\n",
    "\n"
   ]
  }
 ],
 "metadata": {
  "kernelspec": {
   "display_name": ".venv",
   "language": "python",
   "name": "python3"
  },
  "language_info": {
   "codemirror_mode": {
    "name": "ipython",
    "version": 3
   },
   "file_extension": ".py",
   "mimetype": "text/x-python",
   "name": "python",
   "nbconvert_exporter": "python",
   "pygments_lexer": "ipython3",
   "version": "3.12.8"
  }
 },
 "nbformat": 4,
 "nbformat_minor": 2
}
