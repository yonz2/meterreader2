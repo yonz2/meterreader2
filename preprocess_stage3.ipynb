{
 "cells": [
  {
   "cell_type": "markdown",
   "metadata": {},
   "source": [
    "# Electricity Meter Reading Pipeline - Stage 3: Digit Recognition\n",
    "\n",
    "This document describes the process for training a digit recognition model as part of an electricity meter reading pipeline.\n",
    "\n",
    "## Preprocessing\n",
    "\n",
    "The following steps are involved in preprocessing the images of the electricity meter counter:\n",
    "\n",
    "1. **Input:** Take the output of Stage 2, which is an image of the counter area cropped from the original image.\n",
    "2. **Straighten:** Use horizontal line detection (e.g., Hough Line Transform) to estimate the rotation angle and straighten the image. This ensures proper digit alignment.\n",
    "3. **Convert to Binary:**\n",
    "   - Convert the image to grayscale.\n",
    "   - Apply binary thresholding to create a black and white (B/W) image.\n",
    "   - Invert the binary image to make the digits white and the background black.\n",
    "4. **Remove Borders:** Use horizontal line detection to identify and remove any remaining borders above and below the digits. This can be achieved using techniques like inpainting or morphological operations.\n",
    "5. **Isolate Digits:** Apply edge detection (e.g., Canny edge detector) to identify the boundaries of the digits.\n",
    "6. **Filter Contours:** Filter the resulting contours (detected digit boundaries) based on criteria such as:\n",
    "   - Height > Width (digits are usually taller than they are wide)\n",
    "   - Area (height * width) > threshold (to eliminate small noise or artifacts)\n",
    "   - Other conditions as needed (e.g., aspect ratio, solidity)\n",
    "7. **Extract and Save:** Extract each segmented digit and save it as a separate image file."
   ]
  },
  {
   "cell_type": "code",
   "execution_count": null,
   "metadata": {},
   "outputs": [],
   "source": [
    "# Import the required libraries\n",
    "\n",
    "import cv2\n",
    "import os\n",
    "import numpy as np\n",
    "import glob\n",
    "from predict_helpers import *\n"
   ]
  },
  {
   "cell_type": "code",
   "execution_count": null,
   "metadata": {},
   "outputs": [],
   "source": [
    "# Define the source images:\n",
    "# Note Shoulp be the \"crop\" output from Stage 2 Detection\n",
    "\n",
    "image_path = \"/Users/yonz/Workspace/meterreader2/meterreader_YOLO/counter-1/crops/counter/IMG_69*.jpg\"\n",
    "images = glob.glob(image_path)\n",
    "\n",
    "if len(images) > 0:\n",
    "    print(f\"{len(images)} files matching {image_path} found\")\n",
    "else:\n",
    "    print(f\"No images found matching {image_path}\")\n"
   ]
  },
  {
   "cell_type": "code",
   "execution_count": null,
   "metadata": {},
   "outputs": [],
   "source": [
    "\n",
    "# iterate over all the images\n",
    "for img_path in images:\n",
    "    # 1 load the image\n",
    "    image = load_image(img_path)\n",
    "    plot_image(image)\n",
    "\n",
    "    # 2. Straighten\n",
    "    #       Attemt to rotate the image so that the horizontal lines are straight,\n",
    "    rotation_angle = determine_rotation_angle(image, horizontal_threshold=0.1)          \n",
    "    image_rotated = rotate_image(image, rotation_angle)\n",
    "    print(f\"Counter Image - Rotated by {rotation_angle:.3f} degrees\")\n",
    "    plot_image(image_rotated, title=f\"Counter Image - Rotated by {rotation_angle:.3f} degrees\", bgr=False)\n",
    "\n",
    "    # 3. Convert to Binary / Inverse\n",
    "    image_binary = convert_to_binary(image_rotated, bgr=False, invert=True)\n",
    "    print(f\"Binary Image - Created: Shape: {image_binary.shape}. Dtype: {image_binary.dtype}\")\n",
    "    plot_image(image_binary, title=f\"Binary Image -\", bgr=False)\n",
    "\n",
    "    # 4 Remove Borders\n",
    "    # Develop some magic here....."
   ]
  }
 ],
 "metadata": {
  "kernelspec": {
   "display_name": ".venv",
   "language": "python",
   "name": "python3"
  },
  "language_info": {
   "name": "python",
   "version": "3.12.8"
  }
 },
 "nbformat": 4,
 "nbformat_minor": 2
}
