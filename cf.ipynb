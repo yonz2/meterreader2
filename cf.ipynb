{
 "cells": [
  {
   "cell_type": "markdown",
   "metadata": {},
   "source": [
    "# Cloudflare API Test\n",
    "\n",
    "This script updates a Cloudflare Access policy with your current public IP address.\n",
    "It assumes that the policy uses a simple IP range rule.\n",
    "Modify the script as needed to match your policy configuration."
   ]
  },
  {
   "cell_type": "code",
   "execution_count": 1,
   "metadata": {},
   "outputs": [],
   "source": [
    "import os\n",
    "from dotenv import load_dotenv\n",
    "import requests\n",
    "import cloudflare\n",
    "from cloudflare import Cloudflare\n",
    "import time\n",
    "\n",
    "load_dotenv()\n",
    "\n",
    "# --- Replace with your actual values or set them as environment variables ---\n",
    "API_TOKEN = os.getenv('CF_API_TOKEN', 'your-api-token')\n",
    "API_KEY = os.getenv('CF_API_KEY', 'your-api-key')\n",
    "EMAIL = os.getenv('CF_EMAIL', 'your-email') # only needed for API key authentication\n",
    "ACCOUNT_ID = os.getenv('CF_ACCOUNT_ID', 'your-account-id')\n",
    "POLICY_ID = os.getenv('CF_POLICY_ID', 'your-policy-id')\n",
    "\n",
    "BASE_URL = \"https://api.cloudflare.com/client/v4\"\n",
    "\n"
   ]
  },
  {
   "cell_type": "code",
   "execution_count": null,
   "metadata": {},
   "outputs": [],
   "source": [
    "def get_public_ip():\n",
    "    \"\"\"Fetches your current public IP address.\"\"\"\n",
    "    try:\n",
    "        response = requests.get('https://api.ipify.org')\n",
    "        response.raise_for_status()\n",
    "        return response.text\n",
    "    except requests.exceptions.RequestException as e:\n",
    "        print(f\"Error getting public IP: {e}\")\n",
    "        return None\n",
    "    \n",
    "current_ip = get_public_ip()    \n",
    "print(f\"Current IP: {current_ip}\")"
   ]
  },
  {
   "cell_type": "code",
   "execution_count": null,
   "metadata": {},
   "outputs": [],
   "source": [
    "try:\n",
    "    # client = Cloudflare(api_token= API_TOKEN)\n",
    "    client = Cloudflare(\n",
    "        api_key= API_KEY,\n",
    "        api_email= EMAIL\n",
    "    )    \n",
    "except Exception as e:\n",
    "    print(f\"Error creating Cloudflare client: {e}\")\n",
    "\n",
    "print(f\"Cloudflare Client: {client.api_email}\")\n",
    "\n",
    "ZoneId = os.getenv('CF_ZONE_ID')    \n",
    "\n",
    "zone = client.zones.get(zone_id=ZoneId)\n",
    "print(f\"Zone: {zone.name}\")\n",
    "\n",
    "Tunnel_List = client.zero_trust.tunnels.list(account_id=ACCOUNT_ID)\n",
    "print(f\"Tunnels: \\n{Tunnel_List}\")"
   ]
  },
  {
   "cell_type": "code",
   "execution_count": null,
   "metadata": {},
   "outputs": [],
   "source": [
    "try:\n",
    "    # Get the existing Access policy\n",
    "    policy = client.zero_trust.access.policies.get(\n",
    "        account_id=ACCOUNT_ID, \n",
    "        policy_id=POLICY_ID\n",
    "        )\n",
    "    print(f\"Policy (Current): {policy.name} ip: {policy.include[0].ip}\")\n",
    "\n",
    "    # Update the policy if the IP address has changed\n",
    "    current_ip = '10.147.18.25' # Set to a different IP to test the update\n",
    "\n",
    "    if policy.include[0].ip == f\"{current_ip}/32\":\n",
    "        print(\"IP address has not changed. Exiting...\")\n",
    "    else:\n",
    "        print(f\"Updating policy ip to: {current_ip}/32\")\n",
    "        policy.include[0].ip = f\"{current_ip}/32\"\n",
    "        # Update the policy\n",
    "        PolicyUpdateResponse = client.zero_trust.access.policies.update(\n",
    "            account_id=ACCOUNT_ID,\n",
    "            policy_id=POLICY_ID,\n",
    "            decision=policy.decision,  # Keep the existing decision\n",
    "            name=policy.name,          # Keep the existing name\n",
    "            include=[{\"ip\": f\"{current_ip}/32\"}]  # Update the include rule\n",
    "            )\n",
    "        print(\"Cloudflare Access policy updated successfully!\")\n",
    "        time.sleep(5) # Wait for the policy to be updated\n",
    "        policy = client.zero_trust.access.policies.get(\n",
    "            account_id=ACCOUNT_ID, \n",
    "            policy_id=POLICY_ID\n",
    "            )\n",
    "        print(f\"Policy (after update): {policy.name} ip: {policy.include[0].ip}\")\n",
    "    # end if\n",
    "except cloudflare.APIConnectionError as e:\n",
    "    print(\"The server could not be reached\")\n",
    "    print(e.__cause__)  # an underlying Exception, likely raised within httpx.\n",
    "except cloudflare.RateLimitError as e:\n",
    "    print(\"A 429 status code was received; we should back off a bit.\")\n",
    "except cloudflare.APIStatusError as e:\n",
    "    print(\"Another non-200-range status code was received\")\n",
    "    print(e.status_code)\n",
    "    print(e.response)\n",
    "    print(e)\n",
    "except Exception as e:\n",
    "    print(f\"An error occurred: {e}\")"
   ]
  },
  {
   "cell_type": "code",
   "execution_count": null,
   "metadata": {},
   "outputs": [],
   "source": []
  }
 ],
 "metadata": {
  "kernelspec": {
   "display_name": ".venv",
   "language": "python",
   "name": "python3"
  },
  "language_info": {
   "codemirror_mode": {
    "name": "ipython",
    "version": 3
   },
   "file_extension": ".py",
   "mimetype": "text/x-python",
   "name": "python",
   "nbconvert_exporter": "python",
   "pygments_lexer": "ipython3",
   "version": "3.12.3"
  }
 },
 "nbformat": 4,
 "nbformat_minor": 2
}
