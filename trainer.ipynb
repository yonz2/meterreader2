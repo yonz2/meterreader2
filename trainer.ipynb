{
 "cells": [
  {
   "cell_type": "markdown",
   "metadata": {},
   "source": [
    "# MeterReader - The Trainer\n",
    "\n",
    "This notebok implements the YOLOv11 based trainers for the models used by the meterreader\n",
    "\n",
    "- Frames : Get Extract the Frame inside of the meter from the original image\n",
    "- Counter : Extract the Counter from within the frame\n",
    "- Digits: Get the value of each digit of the Counter\n",
    "\n",
    "## Training Data\n",
    "\n",
    "The training data is taken from the respective Roboflow projects. The data is annotated using either Roboflow or manually via script (Digits)\n",
    "\n",
    "## Models\n",
    "\n",
    "The resulting models are saved in the same directory as the downloaded roboflow datasets \n",
    "\n",
    "\n",
    "\n"
   ]
  },
  {
   "cell_type": "markdown",
   "metadata": {},
   "source": [
    "## Citations and Acknowledgements\n",
    "\n",
    "@software{yolo11_ultralytics,\n",
    "  author = {Glenn Jocher and Jing Qiu},\n",
    "  title = {Ultralytics YOLO11},\n",
    "  version = {11.0.0},\n",
    "  year = {2024},\n",
    "  url = {https://github.com/ultralytics/ultralytics},\n",
    "  orcid = {0000-0001-5950-6979, 0000-0002-7603-6750, 0000-0003-3783-7069},\n",
    "  license = {AGPL-3.0}\n",
    "}"
   ]
  },
  {
   "cell_type": "markdown",
   "metadata": {},
   "source": []
  },
  {
   "cell_type": "code",
   "execution_count": 17,
   "metadata": {},
   "outputs": [
    {
     "name": "stdout",
     "output_type": "stream",
     "text": [
      "Ultralytics 8.3.49 🚀 Python-3.12.8 torch-2.5.1 CPU (Apple M4)\n",
      "Setup complete ✅ (10 CPUs, 24.0 GB RAM, 237.5/926.4 GB disk)\n"
     ]
    }
   ],
   "source": [
    "# Uses the Ultralytics YOLOv11 Libraries\n",
    "import ultralytics\n",
    "ultralytics.checks()\n",
    "\n",
    "from ultralytics import YOLO\n",
    "import torch\n",
    "\n",
    "# Datasets are stored, annotated, on roboflow\n",
    "from roboflow import Roboflow\n",
    "\n",
    "# Load custom configurations. Variables accessible with config.get('<<VARIABLE_NAME>>')\n",
    "from config import ConfigLoader\n",
    "\n",
    "import os, shutil"
   ]
  },
  {
   "cell_type": "code",
   "execution_count": 18,
   "metadata": {},
   "outputs": [
    {
     "name": "stdout",
     "output_type": "stream",
     "text": [
      "Loaded configuration from /Users/yonz/Workspace/meterreader2/config.yaml\n",
      "The loaded configuration:\n",
      "DEFAULT_CONFIDENCE: 66\n",
      "DEFAULT_DEBUG: false\n",
      "DEFAULT_DISPLAY_IMAGE: false\n",
      "DEFAULT_FILEPATH: ./static/\n",
      "DEFAULT_MAX_HEIGHT: 1280\n",
      "DEFAULT_MERGE_PARALLEL: true\n",
      "DEFAULT_OVERLAP: 10\n",
      "DEVICE: cpu\n",
      "EXPAND_BBOX_BY: 1.03\n",
      "INCREASE_CONFIDENCE_BY: 1.2\n",
      "RF_API_KEY: IOgzRx9sitOu5Sz6YTOC\n",
      "RF_PROJECT_NAME_COUNTERS: counter-rbnzk\n",
      "RF_PROJECT_NAME_DIGITS: meter-digits-itvsi\n",
      "RF_PROJECT_NAME_FRAME: frame-f0pux\n",
      "RF_SERVER_URL: http://172.30.32.0:9001/\n",
      "RF_VERSION_COUNTERS: '1'\n",
      "RF_VERSION_DIGITS: '3'\n",
      "RF_VERSION_FRAME: '2'\n",
      "RF_WORKSPACE_NAME: meterreader\n",
      "YOLO_WEIGHTS_DIR: ../weights\n",
      "canny_threshold1: 120\n",
      "canny_threshold2: 250\n",
      "digit_max_height: 40\n",
      "digit_min_height: 20\n",
      "digit_y_alignment: 10\n",
      "\n",
      "Device used for training: mps\n"
     ]
    }
   ],
   "source": [
    "# Load the config variables\n",
    "config = ConfigLoader()\n",
    "\n",
    "print(\"The loaded configuration:\")\n",
    "\n",
    "config.print_config()\n",
    "\n",
    "# Check to see if running on a Mac or not (Apple Silicon)\n",
    "device_to_use = config.get('DEVICE')\n",
    "\n",
    "if torch.backends.mps.is_available():\n",
    "    device_to_use = 'mps'\n",
    "\n",
    "print(f\"Device used for training: {device_to_use}\")\n"
   ]
  },
  {
   "cell_type": "code",
   "execution_count": 19,
   "metadata": {},
   "outputs": [
    {
     "name": "stdout",
     "output_type": "stream",
     "text": [
      "loading Roboflow workspace...\n",
      "loading Roboflow project...\n"
     ]
    },
    {
     "name": "stderr",
     "output_type": "stream",
     "text": [
      "Downloading Dataset Version Zip in counter-1 to yolov11:: 100%|██████████| 5469/5469 [00:00<00:00, 5507.72it/s]"
     ]
    },
    {
     "name": "stdout",
     "output_type": "stream",
     "text": [
      "\n"
     ]
    },
    {
     "name": "stderr",
     "output_type": "stream",
     "text": [
      "\n",
      "Extracting Dataset Version Zip to counter-1 in yolov11:: 100%|██████████| 294/294 [00:00<00:00, 14700.72it/s]"
     ]
    },
    {
     "name": "stdout",
     "output_type": "stream",
     "text": [
      "Dataset Location: /Users/yonz/Workspace/meterreader2/counter-1\n"
     ]
    },
    {
     "name": "stderr",
     "output_type": "stream",
     "text": [
      "\n"
     ]
    }
   ],
   "source": [
    "# Load the roboflow datasets\n",
    "# Chengae the comments to select the right model\n",
    "\n",
    "rf = Roboflow(api_key=config.get('RF_API_KEY'))\n",
    "workspace = rf.workspace(config.get('RF_WORKSPACE_NAME'))\n",
    "\n",
    "#project = workspace.project(config.get('RF_PROJECT_NAME_DIGITS'))\n",
    "#project = workspace.project(config.get('RF_PROJECT_NAME_FRAME'))\n",
    "project = workspace.project(config.get('RF_PROJECT_NAME_COUNTERS'))\n",
    "\n",
    "# version = project.version(config.get('RF_VERSION_DIGITS'))\n",
    "# version = project.version(config.get('RF_VERSION_FRAME'))\n",
    "version = project.version(config.get('RF_VERSION_COUNTERS'))\n",
    "\n",
    "\n",
    "dataset = version.download(\"yolov11\")\n",
    "# dataset = version.download(\"yolov11\", location=\"../datasets\")\n",
    "print(f\"Dataset Location: {dataset.location}\")\n",
    "\n",
    "\n",
    "                \n",
    "                \n"
   ]
  },
  {
   "cell_type": "code",
   "execution_count": 20,
   "metadata": {},
   "outputs": [
    {
     "name": "stdout",
     "output_type": "stream",
     "text": [
      "New https://pypi.org/project/ultralytics/8.3.51 available 😃 Update with 'pip install -U ultralytics'\n",
      "Ultralytics 8.3.49 🚀 Python-3.12.8 torch-2.5.1 MPS (Apple M4)\n",
      "\u001b[34m\u001b[1mengine/trainer: \u001b[0mtask=detect, mode=train, model=yolo11n.pt, data=/Users/yonz/Workspace/meterreader2/counter-1/data.yaml, epochs=50, time=None, patience=100, batch=16, imgsz=[640, 640], save=True, save_period=-1, cache=True, device=mps, workers=8, project=meterreader_YOLO, name=counter-1, exist_ok=True, pretrained=True, optimizer=auto, verbose=True, seed=0, deterministic=True, single_cls=False, rect=False, cos_lr=False, close_mosaic=10, resume=False, amp=True, fraction=1.0, profile=False, freeze=None, multi_scale=False, overlap_mask=True, mask_ratio=4, dropout=0.0, val=True, split=val, save_json=False, save_hybrid=False, conf=None, iou=0.7, max_det=300, half=False, dnn=False, plots=True, source=None, vid_stride=1, stream_buffer=False, visualize=False, augment=False, agnostic_nms=False, classes=None, retina_masks=False, embed=None, show=False, save_frames=False, save_txt=False, save_conf=False, save_crop=False, show_labels=True, show_conf=True, show_boxes=True, line_width=None, format=torchscript, keras=False, optimize=False, int8=False, dynamic=False, simplify=True, opset=None, workspace=None, nms=False, lr0=0.01, lrf=0.01, momentum=0.937, weight_decay=0.0005, warmup_epochs=3.0, warmup_momentum=0.8, warmup_bias_lr=0.1, box=7.5, cls=0.5, dfl=1.5, pose=12.0, kobj=1.0, nbs=64, hsv_h=0.015, hsv_s=0.7, hsv_v=0.4, degrees=0.0, translate=0.1, scale=0.5, shear=0.0, perspective=0.0, flipud=0.0, fliplr=0.5, bgr=0.0, mosaic=1.0, mixup=0.0, copy_paste=0.0, copy_paste_mode=flip, auto_augment=randaugment, erasing=0.4, crop_fraction=1.0, cfg=None, tracker=botsort.yaml, save_dir=meterreader_YOLO/counter-1\n",
      "Overriding model.yaml nc=80 with nc=1\n",
      "\n",
      "                   from  n    params  module                                       arguments                     \n",
      "  0                  -1  1       464  ultralytics.nn.modules.conv.Conv             [3, 16, 3, 2]                 \n",
      "  1                  -1  1      4672  ultralytics.nn.modules.conv.Conv             [16, 32, 3, 2]                \n",
      "  2                  -1  1      6640  ultralytics.nn.modules.block.C3k2            [32, 64, 1, False, 0.25]      \n",
      "  3                  -1  1     36992  ultralytics.nn.modules.conv.Conv             [64, 64, 3, 2]                \n",
      "  4                  -1  1     26080  ultralytics.nn.modules.block.C3k2            [64, 128, 1, False, 0.25]     \n",
      "  5                  -1  1    147712  ultralytics.nn.modules.conv.Conv             [128, 128, 3, 2]              \n",
      "  6                  -1  1     87040  ultralytics.nn.modules.block.C3k2            [128, 128, 1, True]           \n",
      "  7                  -1  1    295424  ultralytics.nn.modules.conv.Conv             [128, 256, 3, 2]              \n",
      "  8                  -1  1    346112  ultralytics.nn.modules.block.C3k2            [256, 256, 1, True]           \n",
      "  9                  -1  1    164608  ultralytics.nn.modules.block.SPPF            [256, 256, 5]                 \n",
      " 10                  -1  1    249728  ultralytics.nn.modules.block.C2PSA           [256, 256, 1]                 \n",
      " 11                  -1  1         0  torch.nn.modules.upsampling.Upsample         [None, 2, 'nearest']          \n",
      " 12             [-1, 6]  1         0  ultralytics.nn.modules.conv.Concat           [1]                           \n",
      " 13                  -1  1    111296  ultralytics.nn.modules.block.C3k2            [384, 128, 1, False]          \n",
      " 14                  -1  1         0  torch.nn.modules.upsampling.Upsample         [None, 2, 'nearest']          \n",
      " 15             [-1, 4]  1         0  ultralytics.nn.modules.conv.Concat           [1]                           \n",
      " 16                  -1  1     32096  ultralytics.nn.modules.block.C3k2            [256, 64, 1, False]           \n",
      " 17                  -1  1     36992  ultralytics.nn.modules.conv.Conv             [64, 64, 3, 2]                \n",
      " 18            [-1, 13]  1         0  ultralytics.nn.modules.conv.Concat           [1]                           \n",
      " 19                  -1  1     86720  ultralytics.nn.modules.block.C3k2            [192, 128, 1, False]          \n",
      " 20                  -1  1    147712  ultralytics.nn.modules.conv.Conv             [128, 128, 3, 2]              \n",
      " 21            [-1, 10]  1         0  ultralytics.nn.modules.conv.Concat           [1]                           \n",
      " 22                  -1  1    378880  ultralytics.nn.modules.block.C3k2            [384, 256, 1, True]           \n",
      " 23        [16, 19, 22]  1    430867  ultralytics.nn.modules.head.Detect           [1, [64, 128, 256]]           \n",
      "YOLO11n summary: 319 layers, 2,590,035 parameters, 2,590,019 gradients, 6.4 GFLOPs\n",
      "\n",
      "Transferred 448/499 items from pretrained weights\n",
      "WARNING ⚠️ Comet installed but not initialized correctly, not logging this run. Comet.ml requires an API key. Please provide as the first argument to Experiment(api_key) or as an environment variable named COMET_API_KEY \n",
      "\u001b[34m\u001b[1mTensorBoard: \u001b[0mStart with 'tensorboard --logdir meterreader_YOLO/counter-1', view at http://localhost:6006/\n",
      "Freezing layer 'model.23.dfl.conv.weight'\n",
      "WARNING ⚠️ updating to 'imgsz=640'. 'train' and 'val' imgsz must be an integer, while 'predict' and 'export' imgsz may be a [h, w] list or an integer, i.e. 'yolo export imgsz=640,480' or 'yolo export imgsz=640'\n"
     ]
    },
    {
     "name": "stderr",
     "output_type": "stream",
     "text": [
      "\u001b[34m\u001b[1mtrain: \u001b[0mScanning /Users/yonz/Workspace/meterreader2/counter-1/train/labels... 123 images, 0 backgrounds, 0 corrupt: 100%|██████████| 123/123 [00:00<00:00, 3265.89it/s]"
     ]
    },
    {
     "name": "stdout",
     "output_type": "stream",
     "text": [
      "\u001b[34m\u001b[1mtrain: \u001b[0mNew cache created: /Users/yonz/Workspace/meterreader2/counter-1/train/labels.cache\n",
      "WARNING ⚠️ cache='ram' may produce non-deterministic training results. Consider cache='disk' as a deterministic alternative if your disk space allows.\n"
     ]
    },
    {
     "name": "stderr",
     "output_type": "stream",
     "text": [
      "\n",
      "\u001b[34m\u001b[1mtrain: \u001b[0mCaching images (0.1GB RAM): 100%|██████████| 123/123 [00:00<00:00, 8077.84it/s]\n",
      "\u001b[34m\u001b[1mval: \u001b[0mScanning /Users/yonz/Workspace/meterreader2/counter-1/valid/labels... 12 images, 0 backgrounds, 0 corrupt: 100%|██████████| 12/12 [00:00<00:00, 4130.62it/s]"
     ]
    },
    {
     "name": "stdout",
     "output_type": "stream",
     "text": [
      "\u001b[34m\u001b[1mval: \u001b[0mNew cache created: /Users/yonz/Workspace/meterreader2/counter-1/valid/labels.cache\n",
      "WARNING ⚠️ cache='ram' may produce non-deterministic training results. Consider cache='disk' as a deterministic alternative if your disk space allows.\n"
     ]
    },
    {
     "name": "stderr",
     "output_type": "stream",
     "text": [
      "\n",
      "\u001b[34m\u001b[1mval: \u001b[0mCaching images (0.0GB RAM): 100%|██████████| 12/12 [00:00<00:00, 6410.04it/s]"
     ]
    },
    {
     "name": "stdout",
     "output_type": "stream",
     "text": [
      "Plotting labels to meterreader_YOLO/counter-1/labels.jpg... \n"
     ]
    },
    {
     "name": "stderr",
     "output_type": "stream",
     "text": [
      "\n"
     ]
    },
    {
     "name": "stdout",
     "output_type": "stream",
     "text": [
      "\u001b[34m\u001b[1moptimizer:\u001b[0m 'optimizer=auto' found, ignoring 'lr0=0.01' and 'momentum=0.937' and determining best 'optimizer', 'lr0' and 'momentum' automatically... \n",
      "\u001b[34m\u001b[1moptimizer:\u001b[0m AdamW(lr=0.002, momentum=0.9) with parameter groups 81 weight(decay=0.0), 88 weight(decay=0.0005), 87 bias(decay=0.0)\n",
      "\u001b[34m\u001b[1mTensorBoard: \u001b[0mmodel graph visualization added ✅\n",
      "Image sizes 640 train, 640 val\n",
      "Using 0 dataloader workers\n",
      "Logging results to \u001b[1mmeterreader_YOLO/counter-1\u001b[0m\n",
      "Starting training for 50 epochs...\n",
      "\n",
      "      Epoch    GPU_mem   box_loss   cls_loss   dfl_loss  Instances       Size\n"
     ]
    },
    {
     "name": "stderr",
     "output_type": "stream",
     "text": [
      "       1/50      4.99G     0.9584      3.166      1.071         20        640: 100%|██████████| 8/8 [00:16<00:00,  2.07s/it]\n",
      "                 Class     Images  Instances      Box(P          R      mAP50  mAP50-95): 100%|██████████| 1/1 [00:06<00:00,  6.30s/it]"
     ]
    },
    {
     "name": "stdout",
     "output_type": "stream",
     "text": [
      "                   all         12         12    0.00333          1      0.984      0.902\n"
     ]
    },
    {
     "name": "stderr",
     "output_type": "stream",
     "text": [
      "\n"
     ]
    },
    {
     "name": "stdout",
     "output_type": "stream",
     "text": [
      "\n",
      "      Epoch    GPU_mem   box_loss   cls_loss   dfl_loss  Instances       Size\n"
     ]
    },
    {
     "name": "stderr",
     "output_type": "stream",
     "text": [
      "       2/50      4.83G     0.8059      2.235     0.9457         26        640: 100%|██████████| 8/8 [00:09<00:00,  1.24s/it]\n",
      "                 Class     Images  Instances      Box(P          R      mAP50  mAP50-95): 100%|██████████| 1/1 [00:00<00:00,  1.87it/s]"
     ]
    },
    {
     "name": "stdout",
     "output_type": "stream",
     "text": [
      "                   all         12         12    0.00333          1      0.995      0.933\n"
     ]
    },
    {
     "name": "stderr",
     "output_type": "stream",
     "text": [
      "\n"
     ]
    },
    {
     "name": "stdout",
     "output_type": "stream",
     "text": [
      "\n",
      "      Epoch    GPU_mem   box_loss   cls_loss   dfl_loss  Instances       Size\n"
     ]
    },
    {
     "name": "stderr",
     "output_type": "stream",
     "text": [
      "       3/50      4.77G     0.9302      1.743     0.9946         20        640: 100%|██████████| 8/8 [00:10<00:00,  1.37s/it]\n",
      "                 Class     Images  Instances      Box(P          R      mAP50  mAP50-95): 100%|██████████| 1/1 [00:00<00:00,  1.98it/s]"
     ]
    },
    {
     "name": "stdout",
     "output_type": "stream",
     "text": [
      "                   all         12         12      0.171          1      0.995      0.854\n"
     ]
    },
    {
     "name": "stderr",
     "output_type": "stream",
     "text": [
      "\n"
     ]
    },
    {
     "name": "stdout",
     "output_type": "stream",
     "text": [
      "\n",
      "      Epoch    GPU_mem   box_loss   cls_loss   dfl_loss  Instances       Size\n"
     ]
    },
    {
     "name": "stderr",
     "output_type": "stream",
     "text": [
      "       4/50      4.78G     0.8718      1.384     0.9678         19        640: 100%|██████████| 8/8 [00:09<00:00,  1.21s/it]\n",
      "                 Class     Images  Instances      Box(P          R      mAP50  mAP50-95): 100%|██████████| 1/1 [00:00<00:00,  2.26it/s]"
     ]
    },
    {
     "name": "stdout",
     "output_type": "stream",
     "text": [
      "                   all         12         12      0.949          1      0.995      0.863\n"
     ]
    },
    {
     "name": "stderr",
     "output_type": "stream",
     "text": [
      "\n"
     ]
    },
    {
     "name": "stdout",
     "output_type": "stream",
     "text": [
      "\n",
      "      Epoch    GPU_mem   box_loss   cls_loss   dfl_loss  Instances       Size\n"
     ]
    },
    {
     "name": "stderr",
     "output_type": "stream",
     "text": [
      "       5/50      4.79G     0.9443      1.403     0.9903         20        640: 100%|██████████| 8/8 [00:09<00:00,  1.21s/it]\n",
      "                 Class     Images  Instances      Box(P          R      mAP50  mAP50-95): 100%|██████████| 1/1 [00:00<00:00,  2.38it/s]"
     ]
    },
    {
     "name": "stdout",
     "output_type": "stream",
     "text": [
      "                   all         12         12    0.00333          1      0.984       0.69\n"
     ]
    },
    {
     "name": "stderr",
     "output_type": "stream",
     "text": [
      "\n"
     ]
    },
    {
     "name": "stdout",
     "output_type": "stream",
     "text": [
      "\n",
      "      Epoch    GPU_mem   box_loss   cls_loss   dfl_loss  Instances       Size\n"
     ]
    },
    {
     "name": "stderr",
     "output_type": "stream",
     "text": [
      "       6/50       4.8G     0.9282      1.387     0.9933         19        640: 100%|██████████| 8/8 [00:10<00:00,  1.27s/it]\n",
      "                 Class     Images  Instances      Box(P          R      mAP50  mAP50-95): 100%|██████████| 1/1 [00:00<00:00,  2.03it/s]"
     ]
    },
    {
     "name": "stdout",
     "output_type": "stream",
     "text": [
      "                   all         12         12      0.936      0.917      0.989       0.83\n"
     ]
    },
    {
     "name": "stderr",
     "output_type": "stream",
     "text": [
      "\n"
     ]
    },
    {
     "name": "stdout",
     "output_type": "stream",
     "text": [
      "\n",
      "      Epoch    GPU_mem   box_loss   cls_loss   dfl_loss  Instances       Size\n"
     ]
    },
    {
     "name": "stderr",
     "output_type": "stream",
     "text": [
      "       7/50      4.81G     0.8913      1.353      0.952         19        640: 100%|██████████| 8/8 [00:10<00:00,  1.25s/it]\n",
      "                 Class     Images  Instances      Box(P          R      mAP50  mAP50-95): 100%|██████████| 1/1 [00:00<00:00,  1.07it/s]"
     ]
    },
    {
     "name": "stdout",
     "output_type": "stream",
     "text": [
      "                   all         12         12          1      0.909      0.995      0.794\n"
     ]
    },
    {
     "name": "stderr",
     "output_type": "stream",
     "text": [
      "\n"
     ]
    },
    {
     "name": "stdout",
     "output_type": "stream",
     "text": [
      "\n",
      "      Epoch    GPU_mem   box_loss   cls_loss   dfl_loss  Instances       Size\n"
     ]
    },
    {
     "name": "stderr",
     "output_type": "stream",
     "text": [
      "       8/50      4.87G     0.7926      1.238     0.9254         20        640: 100%|██████████| 8/8 [00:10<00:00,  1.34s/it]\n",
      "                 Class     Images  Instances      Box(P          R      mAP50  mAP50-95): 100%|██████████| 1/1 [00:01<00:00,  1.19s/it]"
     ]
    },
    {
     "name": "stdout",
     "output_type": "stream",
     "text": [
      "                   all         12         12      0.968          1      0.995      0.824\n"
     ]
    },
    {
     "name": "stderr",
     "output_type": "stream",
     "text": [
      "\n"
     ]
    },
    {
     "name": "stdout",
     "output_type": "stream",
     "text": [
      "\n",
      "      Epoch    GPU_mem   box_loss   cls_loss   dfl_loss  Instances       Size\n"
     ]
    },
    {
     "name": "stderr",
     "output_type": "stream",
     "text": [
      "       9/50      4.84G     0.8274      1.215      0.976         24        640: 100%|██████████| 8/8 [00:09<00:00,  1.23s/it]\n",
      "                 Class     Images  Instances      Box(P          R      mAP50  mAP50-95): 100%|██████████| 1/1 [00:00<00:00,  2.55it/s]"
     ]
    },
    {
     "name": "stdout",
     "output_type": "stream",
     "text": [
      "                   all         12         12          1      0.959      0.995      0.879\n"
     ]
    },
    {
     "name": "stderr",
     "output_type": "stream",
     "text": [
      "\n"
     ]
    },
    {
     "name": "stdout",
     "output_type": "stream",
     "text": [
      "\n",
      "      Epoch    GPU_mem   box_loss   cls_loss   dfl_loss  Instances       Size\n"
     ]
    },
    {
     "name": "stderr",
     "output_type": "stream",
     "text": [
      "      10/50      4.84G     0.8382      1.136     0.9689         25        640: 100%|██████████| 8/8 [00:08<00:00,  1.12s/it]\n",
      "                 Class     Images  Instances      Box(P          R      mAP50  mAP50-95):   0%|          | 0/1 [00:00<?, ?it/s]"
     ]
    },
    {
     "name": "stdout",
     "output_type": "stream",
     "text": [
      "WARNING ⚠️ NMS time limit 2.600s exceeded\n"
     ]
    },
    {
     "name": "stderr",
     "output_type": "stream",
     "text": [
      "                 Class     Images  Instances      Box(P          R      mAP50  mAP50-95): 100%|██████████| 1/1 [00:03<00:00,  3.19s/it]"
     ]
    },
    {
     "name": "stdout",
     "output_type": "stream",
     "text": [
      "                   all         12         12      0.982      0.917      0.915      0.792\n"
     ]
    },
    {
     "name": "stderr",
     "output_type": "stream",
     "text": [
      "\n"
     ]
    },
    {
     "name": "stdout",
     "output_type": "stream",
     "text": [
      "\n",
      "      Epoch    GPU_mem   box_loss   cls_loss   dfl_loss  Instances       Size\n"
     ]
    },
    {
     "name": "stderr",
     "output_type": "stream",
     "text": [
      "      11/50      4.85G     0.8674      1.149     0.9608         20        640: 100%|██████████| 8/8 [00:09<00:00,  1.14s/it]\n",
      "                 Class     Images  Instances      Box(P          R      mAP50  mAP50-95):   0%|          | 0/1 [00:00<?, ?it/s]"
     ]
    },
    {
     "name": "stdout",
     "output_type": "stream",
     "text": [
      "WARNING ⚠️ NMS time limit 2.600s exceeded\n"
     ]
    },
    {
     "name": "stderr",
     "output_type": "stream",
     "text": [
      "                 Class     Images  Instances      Box(P          R      mAP50  mAP50-95): 100%|██████████| 1/1 [00:03<00:00,  3.17s/it]"
     ]
    },
    {
     "name": "stdout",
     "output_type": "stream",
     "text": [
      "                   all         12         12      0.992          1      0.995      0.866\n"
     ]
    },
    {
     "name": "stderr",
     "output_type": "stream",
     "text": [
      "\n"
     ]
    },
    {
     "name": "stdout",
     "output_type": "stream",
     "text": [
      "\n",
      "      Epoch    GPU_mem   box_loss   cls_loss   dfl_loss  Instances       Size\n"
     ]
    },
    {
     "name": "stderr",
     "output_type": "stream",
     "text": [
      "      12/50      4.86G     0.7928      1.095     0.9551         16        640: 100%|██████████| 8/8 [00:08<00:00,  1.12s/it]\n",
      "                 Class     Images  Instances      Box(P          R      mAP50  mAP50-95): 100%|██████████| 1/1 [00:02<00:00,  2.01s/it]"
     ]
    },
    {
     "name": "stdout",
     "output_type": "stream",
     "text": [
      "                   all         12         12      0.994          1      0.995      0.736\n"
     ]
    },
    {
     "name": "stderr",
     "output_type": "stream",
     "text": [
      "\n"
     ]
    },
    {
     "name": "stdout",
     "output_type": "stream",
     "text": [
      "\n",
      "      Epoch    GPU_mem   box_loss   cls_loss   dfl_loss  Instances       Size\n"
     ]
    },
    {
     "name": "stderr",
     "output_type": "stream",
     "text": [
      "      13/50      4.86G     0.8055      1.055     0.9705         21        640: 100%|██████████| 8/8 [00:10<00:00,  1.33s/it]\n",
      "                 Class     Images  Instances      Box(P          R      mAP50  mAP50-95):   0%|          | 0/1 [00:00<?, ?it/s]"
     ]
    },
    {
     "name": "stdout",
     "output_type": "stream",
     "text": [
      "WARNING ⚠️ NMS time limit 2.600s exceeded\n"
     ]
    },
    {
     "name": "stderr",
     "output_type": "stream",
     "text": [
      "                 Class     Images  Instances      Box(P          R      mAP50  mAP50-95): 100%|██████████| 1/1 [00:03<00:00,  3.17s/it]"
     ]
    },
    {
     "name": "stdout",
     "output_type": "stream",
     "text": [
      "                   all         12         12      0.991      0.667      0.666      0.538\n"
     ]
    },
    {
     "name": "stderr",
     "output_type": "stream",
     "text": [
      "\n"
     ]
    },
    {
     "name": "stdout",
     "output_type": "stream",
     "text": [
      "\n",
      "      Epoch    GPU_mem   box_loss   cls_loss   dfl_loss  Instances       Size\n"
     ]
    },
    {
     "name": "stderr",
     "output_type": "stream",
     "text": [
      "      14/50       4.9G     0.7803      1.064     0.9528         15        640: 100%|██████████| 8/8 [00:10<00:00,  1.36s/it]\n",
      "                 Class     Images  Instances      Box(P          R      mAP50  mAP50-95):   0%|          | 0/1 [00:00<?, ?it/s]"
     ]
    },
    {
     "name": "stdout",
     "output_type": "stream",
     "text": [
      "WARNING ⚠️ NMS time limit 2.600s exceeded\n"
     ]
    },
    {
     "name": "stderr",
     "output_type": "stream",
     "text": [
      "                 Class     Images  Instances      Box(P          R      mAP50  mAP50-95): 100%|██████████| 1/1 [00:02<00:00,  2.83s/it]"
     ]
    },
    {
     "name": "stdout",
     "output_type": "stream",
     "text": [
      "                   all         12         12      0.992      0.583      0.586      0.492\n"
     ]
    },
    {
     "name": "stderr",
     "output_type": "stream",
     "text": [
      "\n"
     ]
    },
    {
     "name": "stdout",
     "output_type": "stream",
     "text": [
      "\n",
      "      Epoch    GPU_mem   box_loss   cls_loss   dfl_loss  Instances       Size\n"
     ]
    },
    {
     "name": "stderr",
     "output_type": "stream",
     "text": [
      "      15/50      4.88G     0.7709     0.9732      0.941         20        640: 100%|██████████| 8/8 [00:09<00:00,  1.17s/it]\n",
      "                 Class     Images  Instances      Box(P          R      mAP50  mAP50-95):   0%|          | 0/1 [00:00<?, ?it/s]"
     ]
    },
    {
     "name": "stdout",
     "output_type": "stream",
     "text": [
      "WARNING ⚠️ NMS time limit 2.600s exceeded\n"
     ]
    },
    {
     "name": "stderr",
     "output_type": "stream",
     "text": [
      "                 Class     Images  Instances      Box(P          R      mAP50  mAP50-95): 100%|██████████| 1/1 [00:03<00:00,  3.15s/it]"
     ]
    },
    {
     "name": "stdout",
     "output_type": "stream",
     "text": [
      "                   all         12         12      0.992      0.667      0.666      0.523\n"
     ]
    },
    {
     "name": "stderr",
     "output_type": "stream",
     "text": [
      "\n"
     ]
    },
    {
     "name": "stdout",
     "output_type": "stream",
     "text": [
      "\n",
      "      Epoch    GPU_mem   box_loss   cls_loss   dfl_loss  Instances       Size\n"
     ]
    },
    {
     "name": "stderr",
     "output_type": "stream",
     "text": [
      "      16/50      4.89G     0.7907     0.9618     0.9552         18        640: 100%|██████████| 8/8 [00:08<00:00,  1.07s/it]\n",
      "                 Class     Images  Instances      Box(P          R      mAP50  mAP50-95):   0%|          | 0/1 [00:00<?, ?it/s]"
     ]
    },
    {
     "name": "stdout",
     "output_type": "stream",
     "text": [
      "WARNING ⚠️ NMS time limit 2.600s exceeded\n"
     ]
    },
    {
     "name": "stderr",
     "output_type": "stream",
     "text": [
      "                 Class     Images  Instances      Box(P          R      mAP50  mAP50-95): 100%|██████████| 1/1 [00:03<00:00,  3.16s/it]"
     ]
    },
    {
     "name": "stdout",
     "output_type": "stream",
     "text": [
      "                   all         12         12      0.991      0.667      0.666      0.542\n"
     ]
    },
    {
     "name": "stderr",
     "output_type": "stream",
     "text": [
      "\n"
     ]
    },
    {
     "name": "stdout",
     "output_type": "stream",
     "text": [
      "\n",
      "      Epoch    GPU_mem   box_loss   cls_loss   dfl_loss  Instances       Size\n"
     ]
    },
    {
     "name": "stderr",
     "output_type": "stream",
     "text": [
      "      17/50      4.88G     0.8391      0.955     0.9648         19        640: 100%|██████████| 8/8 [00:10<00:00,  1.36s/it]\n",
      "                 Class     Images  Instances      Box(P          R      mAP50  mAP50-95):   0%|          | 0/1 [00:00<?, ?it/s]"
     ]
    },
    {
     "name": "stdout",
     "output_type": "stream",
     "text": [
      "WARNING ⚠️ NMS time limit 2.600s exceeded\n"
     ]
    },
    {
     "name": "stderr",
     "output_type": "stream",
     "text": [
      "                 Class     Images  Instances      Box(P          R      mAP50  mAP50-95): 100%|██████████| 1/1 [00:03<00:00,  3.24s/it]"
     ]
    },
    {
     "name": "stdout",
     "output_type": "stream",
     "text": [
      "                   all         12         12      0.991      0.583      0.586      0.517\n"
     ]
    },
    {
     "name": "stderr",
     "output_type": "stream",
     "text": [
      "\n"
     ]
    },
    {
     "name": "stdout",
     "output_type": "stream",
     "text": [
      "\n",
      "      Epoch    GPU_mem   box_loss   cls_loss   dfl_loss  Instances       Size\n"
     ]
    },
    {
     "name": "stderr",
     "output_type": "stream",
     "text": [
      "      18/50      4.93G     0.7391     0.9288     0.9537         17        640: 100%|██████████| 8/8 [00:09<00:00,  1.14s/it]\n",
      "                 Class     Images  Instances      Box(P          R      mAP50  mAP50-95):   0%|          | 0/1 [00:00<?, ?it/s]"
     ]
    },
    {
     "name": "stdout",
     "output_type": "stream",
     "text": [
      "WARNING ⚠️ NMS time limit 2.600s exceeded\n"
     ]
    },
    {
     "name": "stderr",
     "output_type": "stream",
     "text": [
      "                 Class     Images  Instances      Box(P          R      mAP50  mAP50-95): 100%|██████████| 1/1 [00:03<00:00,  3.20s/it]"
     ]
    },
    {
     "name": "stdout",
     "output_type": "stream",
     "text": [
      "                   all         12         12      0.989      0.583      0.586      0.527\n"
     ]
    },
    {
     "name": "stderr",
     "output_type": "stream",
     "text": [
      "\n"
     ]
    },
    {
     "name": "stdout",
     "output_type": "stream",
     "text": [
      "\n",
      "      Epoch    GPU_mem   box_loss   cls_loss   dfl_loss  Instances       Size\n"
     ]
    },
    {
     "name": "stderr",
     "output_type": "stream",
     "text": [
      "      19/50      4.92G     0.7629     0.8944     0.9392         23        640: 100%|██████████| 8/8 [00:09<00:00,  1.24s/it]\n",
      "                 Class     Images  Instances      Box(P          R      mAP50  mAP50-95):   0%|          | 0/1 [00:00<?, ?it/s]"
     ]
    },
    {
     "name": "stdout",
     "output_type": "stream",
     "text": [
      "WARNING ⚠️ NMS time limit 2.600s exceeded\n"
     ]
    },
    {
     "name": "stderr",
     "output_type": "stream",
     "text": [
      "                 Class     Images  Instances      Box(P          R      mAP50  mAP50-95): 100%|██████████| 1/1 [00:03<00:00,  3.23s/it]"
     ]
    },
    {
     "name": "stdout",
     "output_type": "stream",
     "text": [
      "                   all         12         12      0.992      0.667      0.666      0.608\n"
     ]
    },
    {
     "name": "stderr",
     "output_type": "stream",
     "text": [
      "\n"
     ]
    },
    {
     "name": "stdout",
     "output_type": "stream",
     "text": [
      "\n",
      "      Epoch    GPU_mem   box_loss   cls_loss   dfl_loss  Instances       Size\n"
     ]
    },
    {
     "name": "stderr",
     "output_type": "stream",
     "text": [
      "      20/50      4.97G      0.723     0.8377     0.9384         15        640: 100%|██████████| 8/8 [00:09<00:00,  1.19s/it]\n",
      "                 Class     Images  Instances      Box(P          R      mAP50  mAP50-95):   0%|          | 0/1 [00:00<?, ?it/s]"
     ]
    },
    {
     "name": "stdout",
     "output_type": "stream",
     "text": [
      "WARNING ⚠️ NMS time limit 2.600s exceeded\n"
     ]
    },
    {
     "name": "stderr",
     "output_type": "stream",
     "text": [
      "                 Class     Images  Instances      Box(P          R      mAP50  mAP50-95): 100%|██████████| 1/1 [00:03<00:00,  3.17s/it]"
     ]
    },
    {
     "name": "stdout",
     "output_type": "stream",
     "text": [
      "                   all         12         12      0.992      0.583      0.586      0.522\n"
     ]
    },
    {
     "name": "stderr",
     "output_type": "stream",
     "text": [
      "\n"
     ]
    },
    {
     "name": "stdout",
     "output_type": "stream",
     "text": [
      "\n",
      "      Epoch    GPU_mem   box_loss   cls_loss   dfl_loss  Instances       Size\n"
     ]
    },
    {
     "name": "stderr",
     "output_type": "stream",
     "text": [
      "      21/50      4.94G     0.7107     0.7749     0.9198         18        640: 100%|██████████| 8/8 [00:09<00:00,  1.15s/it]\n",
      "                 Class     Images  Instances      Box(P          R      mAP50  mAP50-95):   0%|          | 0/1 [00:00<?, ?it/s]"
     ]
    },
    {
     "name": "stdout",
     "output_type": "stream",
     "text": [
      "WARNING ⚠️ NMS time limit 2.600s exceeded\n"
     ]
    },
    {
     "name": "stderr",
     "output_type": "stream",
     "text": [
      "                 Class     Images  Instances      Box(P          R      mAP50  mAP50-95): 100%|██████████| 1/1 [00:02<00:00,  2.93s/it]"
     ]
    },
    {
     "name": "stdout",
     "output_type": "stream",
     "text": [
      "                   all         12         12      0.993      0.583      0.586       0.48\n"
     ]
    },
    {
     "name": "stderr",
     "output_type": "stream",
     "text": [
      "\n"
     ]
    },
    {
     "name": "stdout",
     "output_type": "stream",
     "text": [
      "\n",
      "      Epoch    GPU_mem   box_loss   cls_loss   dfl_loss  Instances       Size\n"
     ]
    },
    {
     "name": "stderr",
     "output_type": "stream",
     "text": [
      "      22/50      4.99G      0.675     0.7572     0.9142         15        640: 100%|██████████| 8/8 [00:09<00:00,  1.15s/it]\n",
      "                 Class     Images  Instances      Box(P          R      mAP50  mAP50-95):   0%|          | 0/1 [00:00<?, ?it/s]"
     ]
    },
    {
     "name": "stdout",
     "output_type": "stream",
     "text": [
      "WARNING ⚠️ NMS time limit 2.600s exceeded\n"
     ]
    },
    {
     "name": "stderr",
     "output_type": "stream",
     "text": [
      "                 Class     Images  Instances      Box(P          R      mAP50  mAP50-95): 100%|██████████| 1/1 [00:02<00:00,  2.87s/it]"
     ]
    },
    {
     "name": "stdout",
     "output_type": "stream",
     "text": [
      "                   all         12         12      0.992        0.5      0.496      0.415\n"
     ]
    },
    {
     "name": "stderr",
     "output_type": "stream",
     "text": [
      "\n"
     ]
    },
    {
     "name": "stdout",
     "output_type": "stream",
     "text": [
      "\n",
      "      Epoch    GPU_mem   box_loss   cls_loss   dfl_loss  Instances       Size\n"
     ]
    },
    {
     "name": "stderr",
     "output_type": "stream",
     "text": [
      "      23/50      4.96G     0.7006     0.7623     0.9204         17        640: 100%|██████████| 8/8 [00:09<00:00,  1.20s/it]\n",
      "                 Class     Images  Instances      Box(P          R      mAP50  mAP50-95):   0%|          | 0/1 [00:00<?, ?it/s]"
     ]
    },
    {
     "name": "stdout",
     "output_type": "stream",
     "text": [
      "WARNING ⚠️ NMS time limit 2.600s exceeded\n"
     ]
    },
    {
     "name": "stderr",
     "output_type": "stream",
     "text": [
      "                 Class     Images  Instances      Box(P          R      mAP50  mAP50-95): 100%|██████████| 1/1 [00:02<00:00,  2.93s/it]"
     ]
    },
    {
     "name": "stdout",
     "output_type": "stream",
     "text": [
      "                   all         12         12      0.991        0.5      0.496      0.443\n"
     ]
    },
    {
     "name": "stderr",
     "output_type": "stream",
     "text": [
      "\n"
     ]
    },
    {
     "name": "stdout",
     "output_type": "stream",
     "text": [
      "\n",
      "      Epoch    GPU_mem   box_loss   cls_loss   dfl_loss  Instances       Size\n"
     ]
    },
    {
     "name": "stderr",
     "output_type": "stream",
     "text": [
      "      24/50      4.99G      0.695     0.7388     0.9283         18        640: 100%|██████████| 8/8 [00:11<00:00,  1.48s/it]\n",
      "                 Class     Images  Instances      Box(P          R      mAP50  mAP50-95):   0%|          | 0/1 [00:00<?, ?it/s]"
     ]
    },
    {
     "name": "stdout",
     "output_type": "stream",
     "text": [
      "WARNING ⚠️ NMS time limit 2.600s exceeded\n"
     ]
    },
    {
     "name": "stderr",
     "output_type": "stream",
     "text": [
      "                 Class     Images  Instances      Box(P          R      mAP50  mAP50-95): 100%|██████████| 1/1 [00:02<00:00,  2.91s/it]"
     ]
    },
    {
     "name": "stdout",
     "output_type": "stream",
     "text": [
      "                   all         12         12      0.989        0.5      0.496      0.433\n"
     ]
    },
    {
     "name": "stderr",
     "output_type": "stream",
     "text": [
      "\n"
     ]
    },
    {
     "name": "stdout",
     "output_type": "stream",
     "text": [
      "\n",
      "      Epoch    GPU_mem   box_loss   cls_loss   dfl_loss  Instances       Size\n"
     ]
    },
    {
     "name": "stderr",
     "output_type": "stream",
     "text": [
      "      25/50      5.03G     0.7489     0.7987     0.9488         18        640: 100%|██████████| 8/8 [00:10<00:00,  1.26s/it]\n",
      "                 Class     Images  Instances      Box(P          R      mAP50  mAP50-95):   0%|          | 0/1 [00:00<?, ?it/s]"
     ]
    },
    {
     "name": "stdout",
     "output_type": "stream",
     "text": [
      "WARNING ⚠️ NMS time limit 2.600s exceeded\n"
     ]
    },
    {
     "name": "stderr",
     "output_type": "stream",
     "text": [
      "                 Class     Images  Instances      Box(P          R      mAP50  mAP50-95): 100%|██████████| 1/1 [00:02<00:00,  2.93s/it]"
     ]
    },
    {
     "name": "stdout",
     "output_type": "stream",
     "text": [
      "                   all         12         12       0.99        0.5      0.496      0.458\n"
     ]
    },
    {
     "name": "stderr",
     "output_type": "stream",
     "text": [
      "\n"
     ]
    },
    {
     "name": "stdout",
     "output_type": "stream",
     "text": [
      "\n",
      "      Epoch    GPU_mem   box_loss   cls_loss   dfl_loss  Instances       Size\n"
     ]
    },
    {
     "name": "stderr",
     "output_type": "stream",
     "text": [
      "      26/50      5.01G     0.6487     0.7023     0.8972         17        640: 100%|██████████| 8/8 [00:09<00:00,  1.23s/it]\n",
      "                 Class     Images  Instances      Box(P          R      mAP50  mAP50-95):   0%|          | 0/1 [00:00<?, ?it/s]"
     ]
    },
    {
     "name": "stdout",
     "output_type": "stream",
     "text": [
      "WARNING ⚠️ NMS time limit 2.600s exceeded\n"
     ]
    },
    {
     "name": "stderr",
     "output_type": "stream",
     "text": [
      "                 Class     Images  Instances      Box(P          R      mAP50  mAP50-95): 100%|██████████| 1/1 [00:02<00:00,  2.98s/it]"
     ]
    },
    {
     "name": "stdout",
     "output_type": "stream",
     "text": [
      "                   all         12         12      0.987        0.5      0.496      0.465\n"
     ]
    },
    {
     "name": "stderr",
     "output_type": "stream",
     "text": [
      "\n"
     ]
    },
    {
     "name": "stdout",
     "output_type": "stream",
     "text": [
      "\n",
      "      Epoch    GPU_mem   box_loss   cls_loss   dfl_loss  Instances       Size\n"
     ]
    },
    {
     "name": "stderr",
     "output_type": "stream",
     "text": [
      "      27/50      5.05G     0.6683     0.6985     0.9046         20        640: 100%|██████████| 8/8 [00:09<00:00,  1.17s/it]\n",
      "                 Class     Images  Instances      Box(P          R      mAP50  mAP50-95):   0%|          | 0/1 [00:00<?, ?it/s]"
     ]
    },
    {
     "name": "stdout",
     "output_type": "stream",
     "text": [
      "WARNING ⚠️ NMS time limit 2.600s exceeded\n"
     ]
    },
    {
     "name": "stderr",
     "output_type": "stream",
     "text": [
      "                 Class     Images  Instances      Box(P          R      mAP50  mAP50-95): 100%|██████████| 1/1 [00:03<00:00,  3.04s/it]"
     ]
    },
    {
     "name": "stdout",
     "output_type": "stream",
     "text": [
      "                   all         12         12      0.973      0.417      0.416      0.385\n"
     ]
    },
    {
     "name": "stderr",
     "output_type": "stream",
     "text": [
      "\n"
     ]
    },
    {
     "name": "stdout",
     "output_type": "stream",
     "text": [
      "\n",
      "      Epoch    GPU_mem   box_loss   cls_loss   dfl_loss  Instances       Size\n"
     ]
    },
    {
     "name": "stderr",
     "output_type": "stream",
     "text": [
      "      28/50      5.04G      0.699     0.7245     0.9111         21        640: 100%|██████████| 8/8 [00:11<00:00,  1.46s/it]\n",
      "                 Class     Images  Instances      Box(P          R      mAP50  mAP50-95):   0%|          | 0/1 [00:00<?, ?it/s]"
     ]
    },
    {
     "name": "stdout",
     "output_type": "stream",
     "text": [
      "WARNING ⚠️ NMS time limit 2.600s exceeded\n"
     ]
    },
    {
     "name": "stderr",
     "output_type": "stream",
     "text": [
      "                 Class     Images  Instances      Box(P          R      mAP50  mAP50-95): 100%|██████████| 1/1 [00:03<00:00,  3.28s/it]"
     ]
    },
    {
     "name": "stdout",
     "output_type": "stream",
     "text": [
      "                   all         12         12      0.992        0.5      0.496       0.44\n"
     ]
    },
    {
     "name": "stderr",
     "output_type": "stream",
     "text": [
      "\n"
     ]
    },
    {
     "name": "stdout",
     "output_type": "stream",
     "text": [
      "\n",
      "      Epoch    GPU_mem   box_loss   cls_loss   dfl_loss  Instances       Size\n"
     ]
    },
    {
     "name": "stderr",
     "output_type": "stream",
     "text": [
      "      29/50      5.04G      0.668     0.6899     0.9249         16        640: 100%|██████████| 8/8 [00:11<00:00,  1.47s/it]\n",
      "                 Class     Images  Instances      Box(P          R      mAP50  mAP50-95):   0%|          | 0/1 [00:00<?, ?it/s]"
     ]
    },
    {
     "name": "stdout",
     "output_type": "stream",
     "text": [
      "WARNING ⚠️ NMS time limit 2.600s exceeded\n"
     ]
    },
    {
     "name": "stderr",
     "output_type": "stream",
     "text": [
      "                 Class     Images  Instances      Box(P          R      mAP50  mAP50-95): 100%|██████████| 1/1 [00:03<00:00,  3.11s/it]"
     ]
    },
    {
     "name": "stdout",
     "output_type": "stream",
     "text": [
      "                   all         12         12      0.991      0.417      0.416      0.385\n"
     ]
    },
    {
     "name": "stderr",
     "output_type": "stream",
     "text": [
      "\n"
     ]
    },
    {
     "name": "stdout",
     "output_type": "stream",
     "text": [
      "\n",
      "      Epoch    GPU_mem   box_loss   cls_loss   dfl_loss  Instances       Size\n"
     ]
    },
    {
     "name": "stderr",
     "output_type": "stream",
     "text": [
      "      30/50       5.1G     0.6444     0.6693     0.9127         20        640: 100%|██████████| 8/8 [00:09<00:00,  1.23s/it]\n",
      "                 Class     Images  Instances      Box(P          R      mAP50  mAP50-95):   0%|          | 0/1 [00:00<?, ?it/s]"
     ]
    },
    {
     "name": "stdout",
     "output_type": "stream",
     "text": [
      "WARNING ⚠️ NMS time limit 2.600s exceeded\n"
     ]
    },
    {
     "name": "stderr",
     "output_type": "stream",
     "text": [
      "                 Class     Images  Instances      Box(P          R      mAP50  mAP50-95): 100%|██████████| 1/1 [00:03<00:00,  3.01s/it]"
     ]
    },
    {
     "name": "stdout",
     "output_type": "stream",
     "text": [
      "                   all         12         12       0.99      0.417      0.416      0.386\n"
     ]
    },
    {
     "name": "stderr",
     "output_type": "stream",
     "text": [
      "\n"
     ]
    },
    {
     "name": "stdout",
     "output_type": "stream",
     "text": [
      "\n",
      "      Epoch    GPU_mem   box_loss   cls_loss   dfl_loss  Instances       Size\n"
     ]
    },
    {
     "name": "stderr",
     "output_type": "stream",
     "text": [
      "      31/50      5.08G     0.6672     0.6626     0.9041         17        640: 100%|██████████| 8/8 [00:10<00:00,  1.33s/it]\n",
      "                 Class     Images  Instances      Box(P          R      mAP50  mAP50-95):   0%|          | 0/1 [00:00<?, ?it/s]"
     ]
    },
    {
     "name": "stdout",
     "output_type": "stream",
     "text": [
      "WARNING ⚠️ NMS time limit 2.600s exceeded\n"
     ]
    },
    {
     "name": "stderr",
     "output_type": "stream",
     "text": [
      "                 Class     Images  Instances      Box(P          R      mAP50  mAP50-95): 100%|██████████| 1/1 [00:03<00:00,  3.32s/it]"
     ]
    },
    {
     "name": "stdout",
     "output_type": "stream",
     "text": [
      "                   all         12         12       0.99      0.417      0.416      0.379\n"
     ]
    },
    {
     "name": "stderr",
     "output_type": "stream",
     "text": [
      "\n"
     ]
    },
    {
     "name": "stdout",
     "output_type": "stream",
     "text": [
      "\n",
      "      Epoch    GPU_mem   box_loss   cls_loss   dfl_loss  Instances       Size\n"
     ]
    },
    {
     "name": "stderr",
     "output_type": "stream",
     "text": [
      "      32/50       5.1G     0.6488     0.6425     0.9091         16        640: 100%|██████████| 8/8 [00:10<00:00,  1.33s/it]\n",
      "                 Class     Images  Instances      Box(P          R      mAP50  mAP50-95):   0%|          | 0/1 [00:00<?, ?it/s]"
     ]
    },
    {
     "name": "stdout",
     "output_type": "stream",
     "text": [
      "WARNING ⚠️ NMS time limit 2.600s exceeded\n"
     ]
    },
    {
     "name": "stderr",
     "output_type": "stream",
     "text": [
      "                 Class     Images  Instances      Box(P          R      mAP50  mAP50-95): 100%|██████████| 1/1 [00:03<00:00,  3.19s/it]"
     ]
    },
    {
     "name": "stdout",
     "output_type": "stream",
     "text": [
      "                   all         12         12      0.993      0.667      0.666      0.624\n"
     ]
    },
    {
     "name": "stderr",
     "output_type": "stream",
     "text": [
      "\n"
     ]
    },
    {
     "name": "stdout",
     "output_type": "stream",
     "text": [
      "\n",
      "      Epoch    GPU_mem   box_loss   cls_loss   dfl_loss  Instances       Size\n"
     ]
    },
    {
     "name": "stderr",
     "output_type": "stream",
     "text": [
      "      33/50      5.09G     0.6449     0.6155     0.8999         21        640: 100%|██████████| 8/8 [00:09<00:00,  1.25s/it]\n",
      "                 Class     Images  Instances      Box(P          R      mAP50  mAP50-95):   0%|          | 0/1 [00:00<?, ?it/s]"
     ]
    },
    {
     "name": "stdout",
     "output_type": "stream",
     "text": [
      "WARNING ⚠️ NMS time limit 2.600s exceeded\n"
     ]
    },
    {
     "name": "stderr",
     "output_type": "stream",
     "text": [
      "                 Class     Images  Instances      Box(P          R      mAP50  mAP50-95): 100%|██████████| 1/1 [00:03<00:00,  3.25s/it]"
     ]
    },
    {
     "name": "stdout",
     "output_type": "stream",
     "text": [
      "                   all         12         12      0.993      0.667      0.666       0.61\n"
     ]
    },
    {
     "name": "stderr",
     "output_type": "stream",
     "text": [
      "\n"
     ]
    },
    {
     "name": "stdout",
     "output_type": "stream",
     "text": [
      "\n",
      "      Epoch    GPU_mem   box_loss   cls_loss   dfl_loss  Instances       Size\n"
     ]
    },
    {
     "name": "stderr",
     "output_type": "stream",
     "text": [
      "      34/50       5.1G     0.6193     0.6194     0.8829         15        640: 100%|██████████| 8/8 [00:10<00:00,  1.25s/it]\n",
      "                 Class     Images  Instances      Box(P          R      mAP50  mAP50-95):   0%|          | 0/1 [00:00<?, ?it/s]"
     ]
    },
    {
     "name": "stdout",
     "output_type": "stream",
     "text": [
      "WARNING ⚠️ NMS time limit 2.600s exceeded\n"
     ]
    },
    {
     "name": "stderr",
     "output_type": "stream",
     "text": [
      "                 Class     Images  Instances      Box(P          R      mAP50  mAP50-95): 100%|██████████| 1/1 [00:03<00:00,  3.29s/it]"
     ]
    },
    {
     "name": "stdout",
     "output_type": "stream",
     "text": [
      "                   all         12         12      0.993      0.583      0.586      0.539\n"
     ]
    },
    {
     "name": "stderr",
     "output_type": "stream",
     "text": [
      "\n"
     ]
    },
    {
     "name": "stdout",
     "output_type": "stream",
     "text": [
      "\n",
      "      Epoch    GPU_mem   box_loss   cls_loss   dfl_loss  Instances       Size\n"
     ]
    },
    {
     "name": "stderr",
     "output_type": "stream",
     "text": [
      "      35/50      5.11G     0.6186     0.6041     0.9013         19        640: 100%|██████████| 8/8 [00:10<00:00,  1.33s/it]\n",
      "                 Class     Images  Instances      Box(P          R      mAP50  mAP50-95):   0%|          | 0/1 [00:00<?, ?it/s]"
     ]
    },
    {
     "name": "stdout",
     "output_type": "stream",
     "text": [
      "WARNING ⚠️ NMS time limit 2.600s exceeded\n"
     ]
    },
    {
     "name": "stderr",
     "output_type": "stream",
     "text": [
      "                 Class     Images  Instances      Box(P          R      mAP50  mAP50-95): 100%|██████████| 1/1 [00:05<00:00,  5.32s/it]"
     ]
    },
    {
     "name": "stdout",
     "output_type": "stream",
     "text": [
      "                   all         12         12      0.994       0.75      0.745      0.699\n"
     ]
    },
    {
     "name": "stderr",
     "output_type": "stream",
     "text": [
      "\n"
     ]
    },
    {
     "name": "stdout",
     "output_type": "stream",
     "text": [
      "\n",
      "      Epoch    GPU_mem   box_loss   cls_loss   dfl_loss  Instances       Size\n"
     ]
    },
    {
     "name": "stderr",
     "output_type": "stream",
     "text": [
      "      36/50      5.13G     0.5983     0.5921     0.8795         22        640: 100%|██████████| 8/8 [00:10<00:00,  1.34s/it]\n",
      "                 Class     Images  Instances      Box(P          R      mAP50  mAP50-95):   0%|          | 0/1 [00:00<?, ?it/s]"
     ]
    },
    {
     "name": "stdout",
     "output_type": "stream",
     "text": [
      "WARNING ⚠️ NMS time limit 2.600s exceeded\n"
     ]
    },
    {
     "name": "stderr",
     "output_type": "stream",
     "text": [
      "                 Class     Images  Instances      Box(P          R      mAP50  mAP50-95): 100%|██████████| 1/1 [00:03<00:00,  3.96s/it]"
     ]
    },
    {
     "name": "stdout",
     "output_type": "stream",
     "text": [
      "                   all         12         12      0.994       0.75      0.745      0.712\n"
     ]
    },
    {
     "name": "stderr",
     "output_type": "stream",
     "text": [
      "\n"
     ]
    },
    {
     "name": "stdout",
     "output_type": "stream",
     "text": [
      "\n",
      "      Epoch    GPU_mem   box_loss   cls_loss   dfl_loss  Instances       Size\n"
     ]
    },
    {
     "name": "stderr",
     "output_type": "stream",
     "text": [
      "      37/50      5.13G     0.6268     0.6056     0.8911         22        640: 100%|██████████| 8/8 [00:10<00:00,  1.34s/it]\n",
      "                 Class     Images  Instances      Box(P          R      mAP50  mAP50-95):   0%|          | 0/1 [00:00<?, ?it/s]"
     ]
    },
    {
     "name": "stdout",
     "output_type": "stream",
     "text": [
      "WARNING ⚠️ NMS time limit 2.600s exceeded\n"
     ]
    },
    {
     "name": "stderr",
     "output_type": "stream",
     "text": [
      "                 Class     Images  Instances      Box(P          R      mAP50  mAP50-95): 100%|██████████| 1/1 [00:04<00:00,  4.65s/it]"
     ]
    },
    {
     "name": "stdout",
     "output_type": "stream",
     "text": [
      "                   all         12         12      0.994      0.833      0.835      0.793\n"
     ]
    },
    {
     "name": "stderr",
     "output_type": "stream",
     "text": [
      "\n"
     ]
    },
    {
     "name": "stdout",
     "output_type": "stream",
     "text": [
      "\n",
      "      Epoch    GPU_mem   box_loss   cls_loss   dfl_loss  Instances       Size\n"
     ]
    },
    {
     "name": "stderr",
     "output_type": "stream",
     "text": [
      "      38/50      5.16G     0.6227     0.5948      0.882         22        640: 100%|██████████| 8/8 [00:11<00:00,  1.40s/it]\n",
      "                 Class     Images  Instances      Box(P          R      mAP50  mAP50-95):   0%|          | 0/1 [00:00<?, ?it/s]"
     ]
    },
    {
     "name": "stdout",
     "output_type": "stream",
     "text": [
      "WARNING ⚠️ NMS time limit 2.600s exceeded\n"
     ]
    },
    {
     "name": "stderr",
     "output_type": "stream",
     "text": [
      "                 Class     Images  Instances      Box(P          R      mAP50  mAP50-95): 100%|██████████| 1/1 [00:04<00:00,  4.75s/it]"
     ]
    },
    {
     "name": "stdout",
     "output_type": "stream",
     "text": [
      "                   all         12         12      0.995      0.917      0.915      0.838\n"
     ]
    },
    {
     "name": "stderr",
     "output_type": "stream",
     "text": [
      "\n"
     ]
    },
    {
     "name": "stdout",
     "output_type": "stream",
     "text": [
      "\n",
      "      Epoch    GPU_mem   box_loss   cls_loss   dfl_loss  Instances       Size\n"
     ]
    },
    {
     "name": "stderr",
     "output_type": "stream",
     "text": [
      "      39/50      5.19G     0.5944     0.5624     0.8863         25        640: 100%|██████████| 8/8 [00:10<00:00,  1.34s/it]\n",
      "                 Class     Images  Instances      Box(P          R      mAP50  mAP50-95):   0%|          | 0/1 [00:00<?, ?it/s]"
     ]
    },
    {
     "name": "stdout",
     "output_type": "stream",
     "text": [
      "WARNING ⚠️ NMS time limit 2.600s exceeded\n"
     ]
    },
    {
     "name": "stderr",
     "output_type": "stream",
     "text": [
      "                 Class     Images  Instances      Box(P          R      mAP50  mAP50-95): 100%|██████████| 1/1 [00:04<00:00,  4.66s/it]"
     ]
    },
    {
     "name": "stdout",
     "output_type": "stream",
     "text": [
      "                   all         12         12      0.992        0.5      0.496      0.484\n"
     ]
    },
    {
     "name": "stderr",
     "output_type": "stream",
     "text": [
      "\n"
     ]
    },
    {
     "name": "stdout",
     "output_type": "stream",
     "text": [
      "\n",
      "      Epoch    GPU_mem   box_loss   cls_loss   dfl_loss  Instances       Size\n"
     ]
    },
    {
     "name": "stderr",
     "output_type": "stream",
     "text": [
      "      40/50      5.16G     0.5473     0.5664     0.8787         22        640: 100%|██████████| 8/8 [00:11<00:00,  1.41s/it]\n",
      "                 Class     Images  Instances      Box(P          R      mAP50  mAP50-95):   0%|          | 0/1 [00:00<?, ?it/s]"
     ]
    },
    {
     "name": "stdout",
     "output_type": "stream",
     "text": [
      "WARNING ⚠️ NMS time limit 2.600s exceeded\n"
     ]
    },
    {
     "name": "stderr",
     "output_type": "stream",
     "text": [
      "                 Class     Images  Instances      Box(P          R      mAP50  mAP50-95): 100%|██████████| 1/1 [00:04<00:00,  4.65s/it]"
     ]
    },
    {
     "name": "stdout",
     "output_type": "stream",
     "text": [
      "                   all         12         12      0.994       0.75      0.745      0.713\n"
     ]
    },
    {
     "name": "stderr",
     "output_type": "stream",
     "text": [
      "\n"
     ]
    },
    {
     "name": "stdout",
     "output_type": "stream",
     "text": [
      "Closing dataloader mosaic\n",
      "\n",
      "      Epoch    GPU_mem   box_loss   cls_loss   dfl_loss  Instances       Size\n"
     ]
    },
    {
     "name": "stderr",
     "output_type": "stream",
     "text": [
      "      41/50       5.2G      0.477      0.619     0.8122         11        640: 100%|██████████| 8/8 [00:11<00:00,  1.44s/it]\n",
      "                 Class     Images  Instances      Box(P          R      mAP50  mAP50-95):   0%|          | 0/1 [00:00<?, ?it/s]"
     ]
    },
    {
     "name": "stdout",
     "output_type": "stream",
     "text": [
      "WARNING ⚠️ NMS time limit 2.600s exceeded\n"
     ]
    },
    {
     "name": "stderr",
     "output_type": "stream",
     "text": [
      "                 Class     Images  Instances      Box(P          R      mAP50  mAP50-95): 100%|██████████| 1/1 [00:03<00:00,  3.97s/it]"
     ]
    },
    {
     "name": "stdout",
     "output_type": "stream",
     "text": [
      "                   all         12         12      0.993      0.583      0.586      0.561\n"
     ]
    },
    {
     "name": "stderr",
     "output_type": "stream",
     "text": [
      "\n"
     ]
    },
    {
     "name": "stdout",
     "output_type": "stream",
     "text": [
      "\n",
      "      Epoch    GPU_mem   box_loss   cls_loss   dfl_loss  Instances       Size\n"
     ]
    },
    {
     "name": "stderr",
     "output_type": "stream",
     "text": [
      "      42/50      5.18G     0.4577     0.5679     0.8193         11        640: 100%|██████████| 8/8 [00:10<00:00,  1.32s/it]\n",
      "                 Class     Images  Instances      Box(P          R      mAP50  mAP50-95):   0%|          | 0/1 [00:00<?, ?it/s]"
     ]
    },
    {
     "name": "stdout",
     "output_type": "stream",
     "text": [
      "WARNING ⚠️ NMS time limit 2.600s exceeded\n"
     ]
    },
    {
     "name": "stderr",
     "output_type": "stream",
     "text": [
      "                 Class     Images  Instances      Box(P          R      mAP50  mAP50-95): 100%|██████████| 1/1 [00:04<00:00,  4.12s/it]"
     ]
    },
    {
     "name": "stdout",
     "output_type": "stream",
     "text": [
      "                   all         12         12      0.996          1      0.995      0.947\n"
     ]
    },
    {
     "name": "stderr",
     "output_type": "stream",
     "text": [
      "\n"
     ]
    },
    {
     "name": "stdout",
     "output_type": "stream",
     "text": [
      "\n",
      "      Epoch    GPU_mem   box_loss   cls_loss   dfl_loss  Instances       Size\n"
     ]
    },
    {
     "name": "stderr",
     "output_type": "stream",
     "text": [
      "      43/50       5.2G     0.4452     0.5659     0.7996         11        640: 100%|██████████| 8/8 [00:10<00:00,  1.32s/it]\n",
      "                 Class     Images  Instances      Box(P          R      mAP50  mAP50-95):   0%|          | 0/1 [00:00<?, ?it/s]"
     ]
    },
    {
     "name": "stdout",
     "output_type": "stream",
     "text": [
      "WARNING ⚠️ NMS time limit 2.600s exceeded\n"
     ]
    },
    {
     "name": "stderr",
     "output_type": "stream",
     "text": [
      "                 Class     Images  Instances      Box(P          R      mAP50  mAP50-95): 100%|██████████| 1/1 [00:04<00:00,  4.04s/it]"
     ]
    },
    {
     "name": "stdout",
     "output_type": "stream",
     "text": [
      "                   all         12         12      0.995      0.833      0.835      0.771\n"
     ]
    },
    {
     "name": "stderr",
     "output_type": "stream",
     "text": [
      "\n"
     ]
    },
    {
     "name": "stdout",
     "output_type": "stream",
     "text": [
      "\n",
      "      Epoch    GPU_mem   box_loss   cls_loss   dfl_loss  Instances       Size\n"
     ]
    },
    {
     "name": "stderr",
     "output_type": "stream",
     "text": [
      "      44/50      5.21G     0.4408     0.5605     0.8049         11        640: 100%|██████████| 8/8 [00:09<00:00,  1.24s/it]\n",
      "                 Class     Images  Instances      Box(P          R      mAP50  mAP50-95): 100%|██████████| 1/1 [00:04<00:00,  4.19s/it]"
     ]
    },
    {
     "name": "stdout",
     "output_type": "stream",
     "text": [
      "                   all         12         12      0.995          1      0.995      0.945\n"
     ]
    },
    {
     "name": "stderr",
     "output_type": "stream",
     "text": [
      "\n"
     ]
    },
    {
     "name": "stdout",
     "output_type": "stream",
     "text": [
      "\n",
      "      Epoch    GPU_mem   box_loss   cls_loss   dfl_loss  Instances       Size\n"
     ]
    },
    {
     "name": "stderr",
     "output_type": "stream",
     "text": [
      "      45/50      5.21G     0.4336     0.5401     0.8151         11        640: 100%|██████████| 8/8 [00:09<00:00,  1.17s/it]\n",
      "                 Class     Images  Instances      Box(P          R      mAP50  mAP50-95):   0%|          | 0/1 [00:00<?, ?it/s]"
     ]
    },
    {
     "name": "stdout",
     "output_type": "stream",
     "text": [
      "WARNING ⚠️ NMS time limit 2.600s exceeded\n"
     ]
    },
    {
     "name": "stderr",
     "output_type": "stream",
     "text": [
      "                 Class     Images  Instances      Box(P          R      mAP50  mAP50-95): 100%|██████████| 1/1 [00:03<00:00,  3.29s/it]"
     ]
    },
    {
     "name": "stdout",
     "output_type": "stream",
     "text": [
      "                   all         12         12      0.995      0.917      0.915      0.875\n"
     ]
    },
    {
     "name": "stderr",
     "output_type": "stream",
     "text": [
      "\n"
     ]
    },
    {
     "name": "stdout",
     "output_type": "stream",
     "text": [
      "\n",
      "      Epoch    GPU_mem   box_loss   cls_loss   dfl_loss  Instances       Size\n"
     ]
    },
    {
     "name": "stderr",
     "output_type": "stream",
     "text": [
      "      46/50      5.22G     0.4436     0.5262     0.7921         11        640: 100%|██████████| 8/8 [00:10<00:00,  1.33s/it]\n",
      "                 Class     Images  Instances      Box(P          R      mAP50  mAP50-95): 100%|██████████| 1/1 [00:02<00:00,  2.45s/it]"
     ]
    },
    {
     "name": "stdout",
     "output_type": "stream",
     "text": [
      "                   all         12         12      0.995          1      0.995      0.936\n"
     ]
    },
    {
     "name": "stderr",
     "output_type": "stream",
     "text": [
      "\n"
     ]
    },
    {
     "name": "stdout",
     "output_type": "stream",
     "text": [
      "\n",
      "      Epoch    GPU_mem   box_loss   cls_loss   dfl_loss  Instances       Size\n"
     ]
    },
    {
     "name": "stderr",
     "output_type": "stream",
     "text": [
      "      47/50      5.23G     0.4328     0.5283     0.8041         11        640: 100%|██████████| 8/8 [00:10<00:00,  1.34s/it]\n",
      "                 Class     Images  Instances      Box(P          R      mAP50  mAP50-95): 100%|██████████| 1/1 [00:03<00:00,  3.44s/it]"
     ]
    },
    {
     "name": "stdout",
     "output_type": "stream",
     "text": [
      "                   all         12         12      0.995          1      0.995      0.925\n"
     ]
    },
    {
     "name": "stderr",
     "output_type": "stream",
     "text": [
      "\n"
     ]
    },
    {
     "name": "stdout",
     "output_type": "stream",
     "text": [
      "\n",
      "      Epoch    GPU_mem   box_loss   cls_loss   dfl_loss  Instances       Size\n"
     ]
    },
    {
     "name": "stderr",
     "output_type": "stream",
     "text": [
      "      48/50      5.27G     0.4566     0.5249     0.8221         11        640: 100%|██████████| 8/8 [00:10<00:00,  1.34s/it]\n",
      "                 Class     Images  Instances      Box(P          R      mAP50  mAP50-95): 100%|██████████| 1/1 [00:04<00:00,  4.28s/it]"
     ]
    },
    {
     "name": "stdout",
     "output_type": "stream",
     "text": [
      "                   all         12         12      0.995          1      0.995      0.955\n"
     ]
    },
    {
     "name": "stderr",
     "output_type": "stream",
     "text": [
      "\n"
     ]
    },
    {
     "name": "stdout",
     "output_type": "stream",
     "text": [
      "\n",
      "      Epoch    GPU_mem   box_loss   cls_loss   dfl_loss  Instances       Size\n"
     ]
    },
    {
     "name": "stderr",
     "output_type": "stream",
     "text": [
      "      49/50      5.25G     0.4271     0.5277     0.8084         11        640: 100%|██████████| 8/8 [00:10<00:00,  1.34s/it]\n",
      "                 Class     Images  Instances      Box(P          R      mAP50  mAP50-95): 100%|██████████| 1/1 [00:04<00:00,  4.19s/it]"
     ]
    },
    {
     "name": "stdout",
     "output_type": "stream",
     "text": [
      "                   all         12         12      0.996          1      0.995      0.966\n"
     ]
    },
    {
     "name": "stderr",
     "output_type": "stream",
     "text": [
      "\n"
     ]
    },
    {
     "name": "stdout",
     "output_type": "stream",
     "text": [
      "\n",
      "      Epoch    GPU_mem   box_loss   cls_loss   dfl_loss  Instances       Size\n"
     ]
    },
    {
     "name": "stderr",
     "output_type": "stream",
     "text": [
      "      50/50      5.29G     0.4091     0.5076     0.8168         11        640: 100%|██████████| 8/8 [00:10<00:00,  1.25s/it]\n",
      "                 Class     Images  Instances      Box(P          R      mAP50  mAP50-95): 100%|██████████| 1/1 [00:01<00:00,  1.73s/it]"
     ]
    },
    {
     "name": "stdout",
     "output_type": "stream",
     "text": [
      "                   all         12         12      0.996          1      0.995      0.966\n"
     ]
    },
    {
     "name": "stderr",
     "output_type": "stream",
     "text": [
      "\n"
     ]
    },
    {
     "name": "stdout",
     "output_type": "stream",
     "text": [
      "\n",
      "50 epochs completed in 0.193 hours.\n",
      "Optimizer stripped from meterreader_YOLO/counter-1/weights/last.pt, 5.5MB\n",
      "Optimizer stripped from meterreader_YOLO/counter-1/weights/best.pt, 5.5MB\n",
      "\n",
      "Validating meterreader_YOLO/counter-1/weights/best.pt...\n",
      "Ultralytics 8.3.49 🚀 Python-3.12.8 torch-2.5.1 MPS (Apple M4)\n",
      "YOLO11n summary (fused): 238 layers, 2,582,347 parameters, 0 gradients, 6.3 GFLOPs\n"
     ]
    },
    {
     "name": "stderr",
     "output_type": "stream",
     "text": [
      "                 Class     Images  Instances      Box(P          R      mAP50  mAP50-95): 100%|██████████| 1/1 [00:05<00:00,  5.55s/it]\n"
     ]
    },
    {
     "name": "stdout",
     "output_type": "stream",
     "text": [
      "                   all         12         12      0.996          1      0.995      0.966\n",
      "Speed: 0.4ms preprocess, 173.5ms inference, 0.0ms loss, 159.2ms postprocess per image\n",
      "Results saved to \u001b[1mmeterreader_YOLO/counter-1\u001b[0m\n"
     ]
    }
   ],
   "source": [
    "# Train\n",
    "\n",
    "# Load a model\n",
    "model = YOLO(\"yolo11n.pt\")  # load a pretrained model (recommended for training)\n",
    "\n",
    "run_name=os.path.basename(dataset.location)\n",
    "project_name=\"meterreader_YOLO\"\n",
    "\n",
    "# Train the model with MPS\n",
    "results = model.train(data=f\"{dataset.location}/data.yaml\", cache=True, epochs=50, imgsz=[640,640], device=device_to_use, \n",
    "                                                            name=run_name, project=project_name, exist_ok=True)\n",
    "\n",
    "resulting_model = f\"{results.save_dir}/weights/best.pt\""
   ]
  },
  {
   "cell_type": "code",
   "execution_count": 21,
   "metadata": {},
   "outputs": [
    {
     "name": "stdout",
     "output_type": "stream",
     "text": [
      "Validate the model using the valid dataset : meterreader_YOLO/counter-1/weights/best.pt\n",
      "Ultralytics 8.3.49 🚀 Python-3.12.8 torch-2.5.1 MPS (Apple M4)\n",
      "YOLO11n summary (fused): 238 layers, 2,582,347 parameters, 0 gradients, 6.3 GFLOPs\n"
     ]
    },
    {
     "name": "stderr",
     "output_type": "stream",
     "text": [
      "\u001b[34m\u001b[1mval: \u001b[0mScanning /Users/yonz/Workspace/meterreader2/counter-1/valid/labels.cache... 12 images, 0 backgrounds, 0 corrupt: 100%|██████████| 12/12 [00:00<?, ?it/s]"
     ]
    },
    {
     "name": "stdout",
     "output_type": "stream",
     "text": [
      "WARNING ⚠️ cache='ram' may produce non-deterministic training results. Consider cache='disk' as a deterministic alternative if your disk space allows.\n"
     ]
    },
    {
     "name": "stderr",
     "output_type": "stream",
     "text": [
      "\n",
      "\u001b[34m\u001b[1mval: \u001b[0mCaching images (0.0GB RAM): 100%|██████████| 12/12 [00:00<00:00, 15679.64it/s]\n",
      "                 Class     Images  Instances      Box(P          R      mAP50  mAP50-95): 100%|██████████| 1/1 [00:00<00:00,  3.97it/s]\n"
     ]
    },
    {
     "name": "stdout",
     "output_type": "stream",
     "text": [
      "                   all         12         12      0.996          1      0.995      0.966\n",
      "Speed: 0.4ms preprocess, 8.6ms inference, 0.0ms loss, 3.4ms postprocess per image\n",
      "Results saved to \u001b[1mmeterreader_YOLO/counter-1\u001b[0m\n",
      "{'metrics/precision(B)': 0.9956707834469842, 'metrics/recall(B)': 1.0, 'metrics/mAP50(B)': 0.995, 'metrics/mAP50-95(B)': 0.96600169985261, 'fitness': 0.968901529867349}\n"
     ]
    }
   ],
   "source": [
    "# Validate the model just rained\n",
    "print(f\"Validate the model using the valid dataset : {resulting_model}\")\n",
    "# Validate the model\n",
    "results = model.val()  # no arguments needed, dataset and settings remembered\n",
    "\n",
    "# Access specific metrics\n",
    "print(results.results_dict)\n",
    "\n",
    "\n"
   ]
  },
  {
   "cell_type": "code",
   "execution_count": 22,
   "metadata": {},
   "outputs": [
    {
     "name": "stdout",
     "output_type": "stream",
     "text": [
      "Predict on the Test dataset from meterreader_YOLO/counter-1/weights/best.pt\n",
      "Ultralytics 8.3.49 🚀 Python-3.12.8 torch-2.5.1 MPS (Apple M4)\n"
     ]
    },
    {
     "name": "stderr",
     "output_type": "stream",
     "text": [
      "\u001b[34m\u001b[1mval: \u001b[0mScanning /Users/yonz/Workspace/meterreader2/counter-1/test/labels... 6 images, 0 backgrounds, 0 corrupt: 100%|██████████| 6/6 [00:00<00:00, 4007.94it/s]"
     ]
    },
    {
     "name": "stdout",
     "output_type": "stream",
     "text": [
      "\u001b[34m\u001b[1mval: \u001b[0mNew cache created: /Users/yonz/Workspace/meterreader2/counter-1/test/labels.cache\n",
      "WARNING ⚠️ cache='ram' may produce non-deterministic training results. Consider cache='disk' as a deterministic alternative if your disk space allows.\n"
     ]
    },
    {
     "name": "stderr",
     "output_type": "stream",
     "text": [
      "\n",
      "\u001b[34m\u001b[1mval: \u001b[0mCaching images (0.0GB RAM): 100%|██████████| 6/6 [00:00<00:00, 12246.14it/s]\n",
      "                 Class     Images  Instances      Box(P          R      mAP50  mAP50-95): 100%|██████████| 1/1 [00:06<00:00,  6.78s/it]\n"
     ]
    },
    {
     "name": "stdout",
     "output_type": "stream",
     "text": [
      "                   all          6          6      0.992          1      0.995      0.965\n",
      "Speed: 13.0ms preprocess, 870.7ms inference, 0.0ms loss, 164.0ms postprocess per image\n",
      "Results saved to \u001b[1mmeterreader_YOLO/counter-1\u001b[0m\n",
      "{'metrics/precision(B)': 0.9922627146239112, 'metrics/recall(B)': 1.0, 'metrics/mAP50(B)': 0.995, 'metrics/mAP50-95(B)': 0.9651082569741398, 'fitness': 0.9680974312767259}\n"
     ]
    }
   ],
   "source": [
    "# Evaluate the model on the test data (model is already loaded)\n",
    "print(f\"Predict on the Test dataset from {resulting_model}\")\n",
    "\n",
    "results = model.val(split='test')\n",
    "\n",
    "# Print the results\n",
    "#print(results)\n",
    "\n",
    "# Access specific metrics\n",
    "# Access specific metrics\n",
    "print(results.results_dict)"
   ]
  },
  {
   "cell_type": "code",
   "execution_count": 23,
   "metadata": {},
   "outputs": [
    {
     "name": "stdout",
     "output_type": "stream",
     "text": [
      "Ultralytics 8.3.49 🚀 Python-3.12.8 torch-2.5.1 CPU (Apple M4)\n",
      "YOLO11n summary (fused): 238 layers, 2,582,347 parameters, 0 gradients, 6.3 GFLOPs\n",
      "\n",
      "\u001b[34m\u001b[1mPyTorch:\u001b[0m starting from 'meterreader_YOLO/counter-1/weights/best.pt' with input shape (1, 3, 192, 800) BCHW and output shape(s) (1, 5, 3150) (5.2 MB)\n",
      "\n",
      "\u001b[34m\u001b[1mTorchScript:\u001b[0m starting export with torch 2.5.1...\n",
      "\u001b[34m\u001b[1mTorchScript:\u001b[0m export success ✅ 0.7s, saved as 'meterreader_YOLO/counter-1/weights/best.torchscript' (10.4 MB)\n",
      "\n",
      "Export complete (0.8s)\n",
      "Results saved to \u001b[1m/Users/yonz/Workspace/meterreader2/meterreader_YOLO/counter-1/weights\u001b[0m\n",
      "Predict:         yolo predict task=detect model=meterreader_YOLO/counter-1/weights/best.torchscript imgsz=192,800 int8 \n",
      "Validate:        yolo val task=detect model=meterreader_YOLO/counter-1/weights/best.torchscript imgsz=192,800 data=/Users/yonz/Workspace/meterreader2/counter-1/data.yaml int8 WARNING ⚠️ non-PyTorch val requires square images, 'imgsz=[192, 800]' will not work. Use export 'imgsz=800' if val is required.\n",
      "Visualize:       https://netron.app\n"
     ]
    }
   ],
   "source": [
    "# Export the trained custom model \n",
    "# Device = cpu for general purpose prediction (other than on a mac)\n",
    "# \n",
    "if results:\n",
    "    trained_model = YOLO(resulting_model)\n",
    "    trained_model.export(device='cpu',  imgsz=[192,800],\n",
    "                 int8=True, data=f\"{dataset.location}/data.yaml\",\n",
    "                 name=run_name, project=project_name, exist_ok=True)\n"
   ]
  },
  {
   "cell_type": "code",
   "execution_count": 26,
   "metadata": {},
   "outputs": [
    {
     "name": "stdout",
     "output_type": "stream",
     "text": [
      "Loading the model for testing from meterreader_YOLO/counter-1/weights/best.pt\n",
      "\n",
      "image 1/240 /Users/yonz/Workspace/images/counter_original/IMG_6900.jpg: 640x448 1 counter, 31.7ms\n",
      "image 2/240 /Users/yonz/Workspace/images/counter_original/IMG_69002.jpg: 640x448 1 counter, 34.6ms\n",
      "image 3/240 /Users/yonz/Workspace/images/counter_original/IMG_69003.jpg: 640x448 1 counter, 28.9ms\n",
      "image 4/240 /Users/yonz/Workspace/images/counter_original/IMG_69004.jpg: 640x448 1 counter, 30.9ms\n",
      "image 5/240 /Users/yonz/Workspace/images/counter_original/IMG_6901.jpg: 640x448 1 counter, 31.5ms\n",
      "image 6/240 /Users/yonz/Workspace/images/counter_original/IMG_69012.jpg: 640x448 1 counter, 33.1ms\n",
      "image 7/240 /Users/yonz/Workspace/images/counter_original/IMG_69013.jpg: 640x448 1 counter, 31.0ms\n",
      "image 8/240 /Users/yonz/Workspace/images/counter_original/IMG_69014.jpg: 640x448 1 counter, 59.5ms\n",
      "image 9/240 /Users/yonz/Workspace/images/counter_original/IMG_6902.jpg: 640x512 1 counter, 31.2ms\n",
      "image 10/240 /Users/yonz/Workspace/images/counter_original/IMG_69022.jpg: 640x512 1 counter, 35.6ms\n",
      "image 11/240 /Users/yonz/Workspace/images/counter_original/IMG_69023.jpg: 640x512 1 counter, 37.2ms\n",
      "image 12/240 /Users/yonz/Workspace/images/counter_original/IMG_69024.jpg: 640x512 1 counter, 31.6ms\n",
      "image 13/240 /Users/yonz/Workspace/images/counter_original/IMG_6903.jpg: 640x544 1 counter, 39.8ms\n",
      "image 14/240 /Users/yonz/Workspace/images/counter_original/IMG_69032.jpg: 640x544 1 counter, 36.5ms\n",
      "image 15/240 /Users/yonz/Workspace/images/counter_original/IMG_69033.jpg: 640x544 1 counter, 44.6ms\n",
      "image 16/240 /Users/yonz/Workspace/images/counter_original/IMG_69034.jpg: 640x544 1 counter, 36.3ms\n",
      "image 17/240 /Users/yonz/Workspace/images/counter_original/IMG_6904.jpg: 640x448 1 counter, 28.3ms\n",
      "image 18/240 /Users/yonz/Workspace/images/counter_original/IMG_69042.jpg: 640x448 1 counter, 30.8ms\n",
      "image 19/240 /Users/yonz/Workspace/images/counter_original/IMG_69043.jpg: 640x448 1 counter, 38.3ms\n",
      "image 20/240 /Users/yonz/Workspace/images/counter_original/IMG_69044.jpg: 640x448 1 counter, 26.4ms\n",
      "image 21/240 /Users/yonz/Workspace/images/counter_original/IMG_6905.jpg: 640x512 1 counter, 37.8ms\n",
      "image 22/240 /Users/yonz/Workspace/images/counter_original/IMG_69052.jpg: 640x512 1 counter, 30.8ms\n",
      "image 23/240 /Users/yonz/Workspace/images/counter_original/IMG_69053.jpg: 640x512 1 counter, 37.7ms\n",
      "image 24/240 /Users/yonz/Workspace/images/counter_original/IMG_69054.jpg: 640x512 1 counter, 45.5ms\n",
      "image 25/240 /Users/yonz/Workspace/images/counter_original/IMG_6906.jpg: 640x544 1 counter, 27.7ms\n",
      "image 26/240 /Users/yonz/Workspace/images/counter_original/IMG_69062.jpg: 640x544 1 counter, 28.8ms\n",
      "image 27/240 /Users/yonz/Workspace/images/counter_original/IMG_69063.jpg: 640x544 1 counter, 32.3ms\n",
      "image 28/240 /Users/yonz/Workspace/images/counter_original/IMG_69064.jpg: 640x544 1 counter, 30.7ms\n",
      "image 29/240 /Users/yonz/Workspace/images/counter_original/IMG_6907.jpg: 640x480 1 counter, 25.2ms\n",
      "image 30/240 /Users/yonz/Workspace/images/counter_original/IMG_69072.jpg: 640x480 1 counter, 35.1ms\n",
      "image 31/240 /Users/yonz/Workspace/images/counter_original/IMG_69073.jpg: 640x480 1 counter, 34.0ms\n",
      "image 32/240 /Users/yonz/Workspace/images/counter_original/IMG_69074.jpg: 640x480 1 counter, 31.5ms\n",
      "image 33/240 /Users/yonz/Workspace/images/counter_original/IMG_6908.jpg: 640x544 1 counter, 41.1ms\n",
      "image 34/240 /Users/yonz/Workspace/images/counter_original/IMG_69082.jpg: 640x544 1 counter, 44.1ms\n",
      "image 35/240 /Users/yonz/Workspace/images/counter_original/IMG_69083.jpg: 640x544 1 counter, 34.0ms\n",
      "image 36/240 /Users/yonz/Workspace/images/counter_original/IMG_69084.jpg: 640x544 1 counter, 46.0ms\n",
      "image 37/240 /Users/yonz/Workspace/images/counter_original/IMG_6909.jpg: 640x512 1 counter, 51.6ms\n",
      "image 38/240 /Users/yonz/Workspace/images/counter_original/IMG_69092.jpg: 640x512 1 counter, 30.7ms\n",
      "image 39/240 /Users/yonz/Workspace/images/counter_original/IMG_69093.jpg: 640x512 1 counter, 31.1ms\n",
      "image 40/240 /Users/yonz/Workspace/images/counter_original/IMG_69094.jpg: 640x512 1 counter, 32.4ms\n",
      "image 41/240 /Users/yonz/Workspace/images/counter_original/IMG_6910.jpg: 640x512 1 counter, 33.5ms\n",
      "image 42/240 /Users/yonz/Workspace/images/counter_original/IMG_69102.jpg: 640x512 1 counter, 32.4ms\n",
      "image 43/240 /Users/yonz/Workspace/images/counter_original/IMG_69103.jpg: 640x512 1 counter, 34.6ms\n",
      "image 44/240 /Users/yonz/Workspace/images/counter_original/IMG_69104.jpg: 640x512 1 counter, 34.6ms\n",
      "image 45/240 /Users/yonz/Workspace/images/counter_original/IMG_6911.jpg: 640x480 1 counter, 30.9ms\n",
      "image 46/240 /Users/yonz/Workspace/images/counter_original/IMG_69112.jpg: 640x480 1 counter, 29.8ms\n",
      "image 47/240 /Users/yonz/Workspace/images/counter_original/IMG_69113.jpg: 640x480 1 counter, 27.4ms\n",
      "image 48/240 /Users/yonz/Workspace/images/counter_original/IMG_69114.jpg: 640x480 1 counter, 50.9ms\n",
      "image 49/240 /Users/yonz/Workspace/images/counter_original/IMG_6912.jpg: 640x480 1 counter, 59.2ms\n",
      "image 50/240 /Users/yonz/Workspace/images/counter_original/IMG_69122.jpg: 640x480 1 counter, 33.7ms\n",
      "image 51/240 /Users/yonz/Workspace/images/counter_original/IMG_69123.jpg: 640x480 1 counter, 32.0ms\n",
      "image 52/240 /Users/yonz/Workspace/images/counter_original/IMG_69124.jpg: 640x480 1 counter, 38.9ms\n",
      "image 53/240 /Users/yonz/Workspace/images/counter_original/IMG_6913.jpg: 640x416 1 counter, 40.7ms\n",
      "image 54/240 /Users/yonz/Workspace/images/counter_original/IMG_69132.jpg: 640x416 1 counter, 28.2ms\n",
      "image 55/240 /Users/yonz/Workspace/images/counter_original/IMG_69133.jpg: 640x416 1 counter, 28.1ms\n",
      "image 56/240 /Users/yonz/Workspace/images/counter_original/IMG_69134.jpg: 640x416 1 counter, 27.9ms\n",
      "image 57/240 /Users/yonz/Workspace/images/counter_original/IMG_6914.jpg: 640x512 1 counter, 38.4ms\n",
      "image 58/240 /Users/yonz/Workspace/images/counter_original/IMG_69142.jpg: 640x512 1 counter, 34.2ms\n",
      "image 59/240 /Users/yonz/Workspace/images/counter_original/IMG_69143.jpg: 640x512 1 counter, 53.8ms\n",
      "image 60/240 /Users/yonz/Workspace/images/counter_original/IMG_69144.jpg: 640x512 1 counter, 33.2ms\n",
      "image 61/240 /Users/yonz/Workspace/images/counter_original/IMG_6915.jpg: 640x480 1 counter, 33.6ms\n",
      "image 62/240 /Users/yonz/Workspace/images/counter_original/IMG_69152.jpg: 640x480 1 counter, 35.4ms\n",
      "image 63/240 /Users/yonz/Workspace/images/counter_original/IMG_69153.jpg: 640x480 1 counter, 29.4ms\n",
      "image 64/240 /Users/yonz/Workspace/images/counter_original/IMG_69154.jpg: 640x480 1 counter, 33.8ms\n",
      "image 65/240 /Users/yonz/Workspace/images/counter_original/IMG_6916.jpg: 640x480 1 counter, 27.1ms\n",
      "image 66/240 /Users/yonz/Workspace/images/counter_original/IMG_69162.jpg: 640x480 1 counter, 29.7ms\n",
      "image 67/240 /Users/yonz/Workspace/images/counter_original/IMG_69163.jpg: 640x480 1 counter, 58.9ms\n",
      "image 68/240 /Users/yonz/Workspace/images/counter_original/IMG_69164.jpg: 640x480 1 counter, 28.8ms\n",
      "image 69/240 /Users/yonz/Workspace/images/counter_original/IMG_6917.jpg: 640x416 1 counter, 27.3ms\n",
      "image 70/240 /Users/yonz/Workspace/images/counter_original/IMG_69172.jpg: 640x416 1 counter, 29.3ms\n",
      "image 71/240 /Users/yonz/Workspace/images/counter_original/IMG_69173.jpg: 640x416 1 counter, 30.8ms\n",
      "image 72/240 /Users/yonz/Workspace/images/counter_original/IMG_69174.jpg: 640x416 1 counter, 52.3ms\n",
      "image 73/240 /Users/yonz/Workspace/images/counter_original/IMG_6918.jpg: 640x480 1 counter, 27.3ms\n",
      "image 74/240 /Users/yonz/Workspace/images/counter_original/IMG_69182.jpg: 640x480 1 counter, 26.3ms\n",
      "image 75/240 /Users/yonz/Workspace/images/counter_original/IMG_69183.jpg: 640x480 1 counter, 29.8ms\n",
      "image 76/240 /Users/yonz/Workspace/images/counter_original/IMG_69184.jpg: 640x480 1 counter, 36.3ms\n",
      "image 77/240 /Users/yonz/Workspace/images/counter_original/IMG_6919.jpg: 640x480 1 counter, 29.5ms\n",
      "image 78/240 /Users/yonz/Workspace/images/counter_original/IMG_69192.jpg: 640x480 1 counter, 51.6ms\n",
      "image 79/240 /Users/yonz/Workspace/images/counter_original/IMG_69193.jpg: 640x480 1 counter, 36.0ms\n",
      "image 80/240 /Users/yonz/Workspace/images/counter_original/IMG_69194.jpg: 640x480 1 counter, 44.7ms\n",
      "image 81/240 /Users/yonz/Workspace/images/counter_original/IMG_6920.jpg: 640x480 1 counter, 26.8ms\n",
      "image 82/240 /Users/yonz/Workspace/images/counter_original/IMG_69202.jpg: 640x480 1 counter, 40.1ms\n",
      "image 83/240 /Users/yonz/Workspace/images/counter_original/IMG_69203.jpg: 640x480 1 counter, 34.7ms\n",
      "image 84/240 /Users/yonz/Workspace/images/counter_original/IMG_69204.jpg: 640x480 1 counter, 33.2ms\n",
      "image 85/240 /Users/yonz/Workspace/images/counter_original/IMG_6921.jpg: 640x480 1 counter, 23.3ms\n",
      "image 86/240 /Users/yonz/Workspace/images/counter_original/IMG_69212.jpg: 640x480 1 counter, 27.3ms\n",
      "image 87/240 /Users/yonz/Workspace/images/counter_original/IMG_69213.jpg: 640x480 1 counter, 31.3ms\n",
      "image 88/240 /Users/yonz/Workspace/images/counter_original/IMG_69214.jpg: 640x480 1 counter, 36.3ms\n",
      "image 89/240 /Users/yonz/Workspace/images/counter_original/IMG_6922.jpg: 640x448 1 counter, 32.4ms\n",
      "image 90/240 /Users/yonz/Workspace/images/counter_original/IMG_69222.jpg: 640x448 1 counter, 22.1ms\n",
      "image 91/240 /Users/yonz/Workspace/images/counter_original/IMG_69223.jpg: 640x448 1 counter, 28.1ms\n",
      "image 92/240 /Users/yonz/Workspace/images/counter_original/IMG_69224.jpg: 640x448 1 counter, 26.1ms\n",
      "image 93/240 /Users/yonz/Workspace/images/counter_original/IMG_6923.jpg: 640x480 1 counter, 37.8ms\n",
      "image 94/240 /Users/yonz/Workspace/images/counter_original/IMG_69232.jpg: 640x480 1 counter, 29.8ms\n",
      "image 95/240 /Users/yonz/Workspace/images/counter_original/IMG_69233.jpg: 640x480 1 counter, 34.8ms\n",
      "image 96/240 /Users/yonz/Workspace/images/counter_original/IMG_69234.jpg: 640x480 1 counter, 28.2ms\n",
      "image 97/240 /Users/yonz/Workspace/images/counter_original/IMG_6924.jpg: 640x448 1 counter, 23.1ms\n",
      "image 98/240 /Users/yonz/Workspace/images/counter_original/IMG_69242.jpg: 160x640 (no detections), 12.7ms\n",
      "image 99/240 /Users/yonz/Workspace/images/counter_original/IMG_69243.jpg: 640x448 1 counter, 31.2ms\n",
      "image 100/240 /Users/yonz/Workspace/images/counter_original/IMG_69244.jpg: 160x640 (no detections), 15.2ms\n",
      "image 101/240 /Users/yonz/Workspace/images/counter_original/IMG_69245.jpg: 640x448 1 counter, 30.3ms\n",
      "image 102/240 /Users/yonz/Workspace/images/counter_original/IMG_69246.jpg: 160x640 (no detections), 12.5ms\n",
      "image 103/240 /Users/yonz/Workspace/images/counter_original/IMG_69247.jpg: 640x448 1 counter, 39.3ms\n",
      "image 104/240 /Users/yonz/Workspace/images/counter_original/IMG_69248.jpg: 160x640 (no detections), 10.5ms\n",
      "image 105/240 /Users/yonz/Workspace/images/counter_original/IMG_6925.jpg: 640x576 1 counter, 31.5ms\n",
      "image 106/240 /Users/yonz/Workspace/images/counter_original/IMG_69252.jpg: 640x576 1 counter, 38.0ms\n",
      "image 107/240 /Users/yonz/Workspace/images/counter_original/IMG_69253.jpg: 640x576 1 counter, 40.7ms\n",
      "image 108/240 /Users/yonz/Workspace/images/counter_original/IMG_69254.jpg: 640x576 1 counter, 33.4ms\n",
      "image 109/240 /Users/yonz/Workspace/images/counter_original/IMG_6926.jpg: 640x512 1 counter, 40.6ms\n",
      "image 110/240 /Users/yonz/Workspace/images/counter_original/IMG_69262.jpg: 640x512 1 counter, 33.2ms\n",
      "image 111/240 /Users/yonz/Workspace/images/counter_original/IMG_69263.jpg: 640x512 1 counter, 36.7ms\n",
      "image 112/240 /Users/yonz/Workspace/images/counter_original/IMG_69264.jpg: 640x512 1 counter, 32.4ms\n",
      "image 113/240 /Users/yonz/Workspace/images/counter_original/IMG_6927.jpg: 640x480 1 counter, 33.6ms\n",
      "image 114/240 /Users/yonz/Workspace/images/counter_original/IMG_69272.jpg: 640x480 1 counter, 32.4ms\n",
      "image 115/240 /Users/yonz/Workspace/images/counter_original/IMG_69273.jpg: 640x480 1 counter, 29.0ms\n",
      "image 116/240 /Users/yonz/Workspace/images/counter_original/IMG_69274.jpg: 640x480 1 counter, 32.9ms\n",
      "image 117/240 /Users/yonz/Workspace/images/counter_original/IMG_6928.jpg: 640x480 1 counter, 27.7ms\n",
      "image 118/240 /Users/yonz/Workspace/images/counter_original/IMG_69282.jpg: 640x480 1 counter, 35.9ms\n",
      "image 119/240 /Users/yonz/Workspace/images/counter_original/IMG_69283.jpg: 640x480 1 counter, 27.9ms\n",
      "image 120/240 /Users/yonz/Workspace/images/counter_original/IMG_69284.jpg: 640x480 1 counter, 30.4ms\n",
      "image 121/240 /Users/yonz/Workspace/images/counter_original/IMG_6929.jpg: 640x448 1 counter, 40.4ms\n",
      "image 122/240 /Users/yonz/Workspace/images/counter_original/IMG_69292.jpg: 640x448 1 counter, 23.1ms\n",
      "image 123/240 /Users/yonz/Workspace/images/counter_original/IMG_69293.jpg: 640x448 1 counter, 29.9ms\n",
      "image 124/240 /Users/yonz/Workspace/images/counter_original/IMG_69294.jpg: 640x448 1 counter, 27.6ms\n",
      "image 125/240 /Users/yonz/Workspace/images/counter_original/IMG_6930.jpg: 640x448 1 counter, 26.7ms\n",
      "image 126/240 /Users/yonz/Workspace/images/counter_original/IMG_69302.jpg: 640x448 1 counter, 23.2ms\n",
      "image 127/240 /Users/yonz/Workspace/images/counter_original/IMG_69303.jpg: 640x448 1 counter, 28.2ms\n",
      "image 128/240 /Users/yonz/Workspace/images/counter_original/IMG_69304.jpg: 640x448 1 counter, 34.9ms\n",
      "image 129/240 /Users/yonz/Workspace/images/counter_original/IMG_6970.jpg: 640x480 1 counter, 34.8ms\n",
      "image 130/240 /Users/yonz/Workspace/images/counter_original/IMG_69702.jpg: 640x480 1 counter, 25.8ms\n",
      "image 131/240 /Users/yonz/Workspace/images/counter_original/IMG_69703.jpg: 640x480 1 counter, 28.7ms\n",
      "image 132/240 /Users/yonz/Workspace/images/counter_original/IMG_69704.jpg: 640x480 1 counter, 28.7ms\n",
      "image 133/240 /Users/yonz/Workspace/images/counter_original/IMG_6971.jpg: 640x480 1 counter, 36.5ms\n",
      "image 134/240 /Users/yonz/Workspace/images/counter_original/IMG_69712.jpg: 640x480 1 counter, 28.9ms\n",
      "image 135/240 /Users/yonz/Workspace/images/counter_original/IMG_69713.jpg: 640x480 1 counter, 38.0ms\n",
      "image 136/240 /Users/yonz/Workspace/images/counter_original/IMG_69714.jpg: 640x480 1 counter, 36.0ms\n",
      "image 137/240 /Users/yonz/Workspace/images/counter_original/IMG_6972.jpg: 640x448 1 counter, 29.2ms\n",
      "image 138/240 /Users/yonz/Workspace/images/counter_original/IMG_69722.jpg: 640x448 1 counter, 31.8ms\n",
      "image 139/240 /Users/yonz/Workspace/images/counter_original/IMG_69723.jpg: 640x448 1 counter, 29.8ms\n",
      "image 140/240 /Users/yonz/Workspace/images/counter_original/IMG_69724.jpg: 640x448 1 counter, 33.1ms\n",
      "image 141/240 /Users/yonz/Workspace/images/counter_original/IMG_6973.jpg: 640x448 1 counter, 23.7ms\n",
      "image 142/240 /Users/yonz/Workspace/images/counter_original/IMG_69732.jpg: 640x448 1 counter, 34.9ms\n",
      "image 143/240 /Users/yonz/Workspace/images/counter_original/IMG_69733.jpg: 640x448 1 counter, 25.3ms\n",
      "image 144/240 /Users/yonz/Workspace/images/counter_original/IMG_69734.jpg: 640x448 1 counter, 25.3ms\n",
      "image 145/240 /Users/yonz/Workspace/images/counter_original/IMG_6974.jpg: 640x480 1 counter, 32.6ms\n",
      "image 146/240 /Users/yonz/Workspace/images/counter_original/IMG_69742.jpg: 640x480 1 counter, 31.1ms\n",
      "image 147/240 /Users/yonz/Workspace/images/counter_original/IMG_69743.jpg: 640x480 1 counter, 27.5ms\n",
      "image 148/240 /Users/yonz/Workspace/images/counter_original/IMG_69744.jpg: 640x480 1 counter, 30.2ms\n",
      "image 149/240 /Users/yonz/Workspace/images/counter_original/IMG_6975.jpg: 640x416 1 counter, 30.8ms\n",
      "image 150/240 /Users/yonz/Workspace/images/counter_original/IMG_69752.jpg: 640x416 1 counter, 23.2ms\n",
      "image 151/240 /Users/yonz/Workspace/images/counter_original/IMG_69753.jpg: 640x416 1 counter, 25.3ms\n",
      "image 152/240 /Users/yonz/Workspace/images/counter_original/IMG_69754.jpg: 640x416 1 counter, 30.3ms\n",
      "image 153/240 /Users/yonz/Workspace/images/counter_original/IMG_6976.jpg: 640x448 1 counter, 30.6ms\n",
      "image 154/240 /Users/yonz/Workspace/images/counter_original/IMG_69762.jpg: 640x448 1 counter, 29.7ms\n",
      "image 155/240 /Users/yonz/Workspace/images/counter_original/IMG_69763.jpg: 640x448 1 counter, 38.6ms\n",
      "image 156/240 /Users/yonz/Workspace/images/counter_original/IMG_69764.jpg: 640x448 1 counter, 26.0ms\n",
      "image 157/240 /Users/yonz/Workspace/images/counter_original/IMG_6977.jpg: 640x480 1 counter, 32.2ms\n",
      "image 158/240 /Users/yonz/Workspace/images/counter_original/IMG_69772.jpg: 640x480 1 counter, 27.0ms\n",
      "image 159/240 /Users/yonz/Workspace/images/counter_original/IMG_69773.jpg: 640x480 1 counter, 38.2ms\n",
      "image 160/240 /Users/yonz/Workspace/images/counter_original/IMG_69774.jpg: 640x480 1 counter, 31.8ms\n",
      "image 161/240 /Users/yonz/Workspace/images/counter_original/IMG_6978.jpg: 640x448 1 counter, 29.7ms\n",
      "image 162/240 /Users/yonz/Workspace/images/counter_original/IMG_69782.jpg: 640x448 1 counter, 34.2ms\n",
      "image 163/240 /Users/yonz/Workspace/images/counter_original/IMG_69783.jpg: 640x448 1 counter, 26.7ms\n",
      "image 164/240 /Users/yonz/Workspace/images/counter_original/IMG_69784.jpg: 640x448 1 counter, 22.9ms\n",
      "image 165/240 /Users/yonz/Workspace/images/counter_original/IMG_6979.jpg: 640x480 1 counter, 30.7ms\n",
      "image 166/240 /Users/yonz/Workspace/images/counter_original/IMG_69792.jpg: 640x480 1 counter, 24.3ms\n",
      "image 167/240 /Users/yonz/Workspace/images/counter_original/IMG_69793.jpg: 640x480 1 counter, 26.1ms\n",
      "image 168/240 /Users/yonz/Workspace/images/counter_original/IMG_69794.jpg: 640x480 1 counter, 28.6ms\n",
      "image 169/240 /Users/yonz/Workspace/images/counter_original/IMG_6980.jpg: 640x448 1 counter, 27.9ms\n",
      "image 170/240 /Users/yonz/Workspace/images/counter_original/IMG_69802.jpg: 640x448 1 counter, 30.8ms\n",
      "image 171/240 /Users/yonz/Workspace/images/counter_original/IMG_69803.jpg: 640x448 1 counter, 23.6ms\n",
      "image 172/240 /Users/yonz/Workspace/images/counter_original/IMG_69804.jpg: 640x448 1 counter, 31.4ms\n",
      "image 173/240 /Users/yonz/Workspace/images/counter_original/IMG_6981.jpg: 640x480 1 counter, 35.0ms\n",
      "image 174/240 /Users/yonz/Workspace/images/counter_original/IMG_69812.jpg: 640x480 1 counter, 35.2ms\n",
      "image 175/240 /Users/yonz/Workspace/images/counter_original/IMG_69813.jpg: 640x480 1 counter, 29.1ms\n",
      "image 176/240 /Users/yonz/Workspace/images/counter_original/IMG_69814.jpg: 640x480 1 counter, 30.5ms\n",
      "image 177/240 /Users/yonz/Workspace/images/counter_original/IMG_6982.jpg: 640x480 1 counter, 29.3ms\n",
      "image 178/240 /Users/yonz/Workspace/images/counter_original/IMG_69822.jpg: 640x480 1 counter, 41.8ms\n",
      "image 179/240 /Users/yonz/Workspace/images/counter_original/IMG_69823.jpg: 640x480 1 counter, 28.1ms\n",
      "image 180/240 /Users/yonz/Workspace/images/counter_original/IMG_69824.jpg: 640x480 1 counter, 38.7ms\n",
      "image 181/240 /Users/yonz/Workspace/images/counter_original/IMG_6983.jpg: 640x448 1 counter, 28.8ms\n",
      "image 182/240 /Users/yonz/Workspace/images/counter_original/IMG_69832.jpg: 640x448 1 counter, 30.8ms\n",
      "image 183/240 /Users/yonz/Workspace/images/counter_original/IMG_69833.jpg: 640x448 1 counter, 28.9ms\n",
      "image 184/240 /Users/yonz/Workspace/images/counter_original/IMG_69834.jpg: 640x448 1 counter, 28.4ms\n",
      "image 185/240 /Users/yonz/Workspace/images/counter_original/IMG_6985.jpg: 640x448 1 counter, 28.3ms\n",
      "image 186/240 /Users/yonz/Workspace/images/counter_original/IMG_69852.jpg: 640x448 1 counter, 28.5ms\n",
      "image 187/240 /Users/yonz/Workspace/images/counter_original/IMG_69853.jpg: 640x448 1 counter, 26.8ms\n",
      "image 188/240 /Users/yonz/Workspace/images/counter_original/IMG_69854.jpg: 640x448 1 counter, 24.2ms\n",
      "image 189/240 /Users/yonz/Workspace/images/counter_original/IMG_6986.jpg: 640x448 1 counter, 25.5ms\n",
      "image 190/240 /Users/yonz/Workspace/images/counter_original/IMG_69862.jpg: 640x448 1 counter, 26.8ms\n",
      "image 191/240 /Users/yonz/Workspace/images/counter_original/IMG_69863.jpg: 640x448 1 counter, 23.9ms\n",
      "image 192/240 /Users/yonz/Workspace/images/counter_original/IMG_69864.jpg: 640x448 1 counter, 36.6ms\n",
      "image 193/240 /Users/yonz/Workspace/images/counter_original/IMG_6987.jpg: 640x416 1 counter, 27.0ms\n",
      "image 194/240 /Users/yonz/Workspace/images/counter_original/IMG_69872.jpg: 640x416 1 counter, 38.4ms\n",
      "image 195/240 /Users/yonz/Workspace/images/counter_original/IMG_69873.jpg: 640x416 1 counter, 23.7ms\n",
      "image 196/240 /Users/yonz/Workspace/images/counter_original/IMG_69874.jpg: 640x416 1 counter, 29.5ms\n",
      "image 197/240 /Users/yonz/Workspace/images/counter_original/IMG_6988.jpg: 640x416 1 counter, 26.1ms\n",
      "image 198/240 /Users/yonz/Workspace/images/counter_original/IMG_69882.jpg: 640x416 1 counter, 28.3ms\n",
      "image 199/240 /Users/yonz/Workspace/images/counter_original/IMG_69883.jpg: 640x416 1 counter, 28.7ms\n",
      "image 200/240 /Users/yonz/Workspace/images/counter_original/IMG_69884.jpg: 640x416 1 counter, 26.0ms\n",
      "image 201/240 /Users/yonz/Workspace/images/counter_original/IMG_6989.jpg: 640x352 1 counter, 19.4ms\n",
      "image 202/240 /Users/yonz/Workspace/images/counter_original/IMG_69892.jpg: 640x352 1 counter, 29.5ms\n",
      "image 203/240 /Users/yonz/Workspace/images/counter_original/IMG_69893.jpg: 640x352 1 counter, 27.1ms\n",
      "image 204/240 /Users/yonz/Workspace/images/counter_original/IMG_69894.jpg: 640x352 1 counter, 19.2ms\n",
      "image 205/240 /Users/yonz/Workspace/images/counter_original/IMG_6990.jpg: 640x416 1 counter, 35.8ms\n",
      "image 206/240 /Users/yonz/Workspace/images/counter_original/IMG_69902.jpg: 640x416 1 counter, 22.4ms\n",
      "image 207/240 /Users/yonz/Workspace/images/counter_original/IMG_69903.jpg: 640x416 1 counter, 25.6ms\n",
      "image 208/240 /Users/yonz/Workspace/images/counter_original/IMG_69904.jpg: 640x416 1 counter, 25.5ms\n",
      "image 209/240 /Users/yonz/Workspace/images/counter_original/IMG_6991.jpg: 640x480 1 counter, 40.7ms\n",
      "image 210/240 /Users/yonz/Workspace/images/counter_original/IMG_69912.jpg: 640x480 1 counter, 30.7ms\n",
      "image 211/240 /Users/yonz/Workspace/images/counter_original/IMG_69913.jpg: 640x480 1 counter, 36.9ms\n",
      "image 212/240 /Users/yonz/Workspace/images/counter_original/IMG_69914.jpg: 640x480 1 counter, 50.5ms\n",
      "image 213/240 /Users/yonz/Workspace/images/counter_original/IMG_6992.jpg: 640x448 1 counter, 42.0ms\n",
      "image 214/240 /Users/yonz/Workspace/images/counter_original/IMG_69922.jpg: 640x448 1 counter, 28.1ms\n",
      "image 215/240 /Users/yonz/Workspace/images/counter_original/IMG_69923.jpg: 640x448 1 counter, 58.3ms\n",
      "image 216/240 /Users/yonz/Workspace/images/counter_original/IMG_69924.jpg: 640x448 1 counter, 32.0ms\n",
      "image 217/240 /Users/yonz/Workspace/images/counter_original/IMG_6993.jpg: 640x480 1 counter, 38.7ms\n",
      "image 218/240 /Users/yonz/Workspace/images/counter_original/IMG_69932.jpg: 640x480 1 counter, 28.3ms\n",
      "image 219/240 /Users/yonz/Workspace/images/counter_original/IMG_69933.jpg: 640x480 1 counter, 31.8ms\n",
      "image 220/240 /Users/yonz/Workspace/images/counter_original/IMG_69934.jpg: 640x480 1 counter, 30.8ms\n",
      "image 221/240 /Users/yonz/Workspace/images/counter_original/IMG_6994.jpg: 640x448 1 counter, 32.7ms\n",
      "image 222/240 /Users/yonz/Workspace/images/counter_original/IMG_69942.jpg: 640x448 1 counter, 28.3ms\n",
      "image 223/240 /Users/yonz/Workspace/images/counter_original/IMG_69943.jpg: 640x448 1 counter, 22.8ms\n",
      "image 224/240 /Users/yonz/Workspace/images/counter_original/IMG_69944.jpg: 640x448 1 counter, 23.5ms\n",
      "image 225/240 /Users/yonz/Workspace/images/counter_original/IMG_6995.jpg: 640x480 1 counter, 28.3ms\n",
      "image 226/240 /Users/yonz/Workspace/images/counter_original/IMG_69952.jpg: 640x480 1 counter, 26.9ms\n",
      "image 227/240 /Users/yonz/Workspace/images/counter_original/IMG_69953.jpg: 640x480 1 counter, 33.4ms\n",
      "image 228/240 /Users/yonz/Workspace/images/counter_original/IMG_69954.jpg: 640x480 1 counter, 45.9ms\n",
      "image 229/240 /Users/yonz/Workspace/images/counter_original/IMG_6996.jpg: 640x448 1 counter, 32.0ms\n",
      "image 230/240 /Users/yonz/Workspace/images/counter_original/IMG_69962.jpg: 640x448 1 counter, 26.1ms\n",
      "image 231/240 /Users/yonz/Workspace/images/counter_original/IMG_69963.jpg: 640x448 1 counter, 27.1ms\n",
      "image 232/240 /Users/yonz/Workspace/images/counter_original/IMG_69964.jpg: 640x448 1 counter, 40.4ms\n",
      "image 233/240 /Users/yonz/Workspace/images/counter_original/IMG_6997.jpg: 640x544 1 counter, 35.4ms\n",
      "image 234/240 /Users/yonz/Workspace/images/counter_original/IMG_69972.jpg: 640x544 1 counter, 47.2ms\n",
      "image 235/240 /Users/yonz/Workspace/images/counter_original/IMG_69973.jpg: 640x544 1 counter, 36.1ms\n",
      "image 236/240 /Users/yonz/Workspace/images/counter_original/IMG_69974.jpg: 640x544 1 counter, 35.6ms\n",
      "image 237/240 /Users/yonz/Workspace/images/counter_original/IMG_6998.jpg: 640x480 1 counter, 34.6ms\n",
      "image 238/240 /Users/yonz/Workspace/images/counter_original/IMG_69982.jpg: 640x480 1 counter, 32.5ms\n",
      "image 239/240 /Users/yonz/Workspace/images/counter_original/IMG_69983.jpg: 640x480 1 counter, 32.5ms\n",
      "image 240/240 /Users/yonz/Workspace/images/counter_original/IMG_69984.jpg: 640x480 1 counter, 37.5ms\n",
      "Speed: 1.4ms preprocess, 32.2ms inference, 0.2ms postprocess per image at shape (1, 3, 640, 480)\n",
      "Results saved to \u001b[1mmeterreader_YOLO/counter-1\u001b[0m\n",
      "236 labels saved to meterreader_YOLO/counter-1/labels\n",
      "Done. Processed 240 images\n"
     ]
    }
   ],
   "source": [
    "# Run some tests...\n",
    "\n",
    "# Load a model\n",
    "print(f\"Loading the model for testing from {resulting_model}\")\n",
    "digits_model = YOLO(resulting_model)  # load prev. trained model\n",
    "\n",
    "# Images to predict are all here .... (path depends on the model being trained)\n",
    "images = f\"/Users/yonz/Workspace/images/counter_original/IMG_69*.jpg\"\n",
    "\n",
    "# run prediction on some test images - Uses the CPU, even on a M4 Mac\n",
    "results = digits_model(images, device='cpu', imgsz=[640,640], conf=0.6, iou=0.5,\n",
    "                        save=True, save_crop =True, save_txt=True,\n",
    "                        name=f\"{run_name}/\", project=f\"{project_name}\", exist_ok=True)\n",
    "\n",
    "# Access specific metrics\n",
    "# print(results.results_dict)\n",
    "print(f\"Done. Processed {len(results)} images\") \n"
   ]
  }
 ],
 "metadata": {
  "kernelspec": {
   "display_name": ".venv",
   "language": "python",
   "name": "python3"
  },
  "language_info": {
   "codemirror_mode": {
    "name": "ipython",
    "version": 3
   },
   "file_extension": ".py",
   "mimetype": "text/x-python",
   "name": "python",
   "nbconvert_exporter": "python",
   "pygments_lexer": "ipython3",
   "version": "3.12.8"
  }
 },
 "nbformat": 4,
 "nbformat_minor": 2
}
