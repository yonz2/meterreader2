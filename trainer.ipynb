{
 "cells": [
  {
   "cell_type": "markdown",
   "metadata": {},
   "source": [
    "# MeterReader - The Trainer\n",
    "\n",
    "This notebok implements the YOLOv11 based trainers for the models used by the meterreader\n",
    "\n",
    "- Frames : Get Extract the Frame inside of the meter from the original image\n",
    "- Counter : Extract the Counter from within the frame\n",
    "- Digits: Get the value of each digit of the Counter\n",
    "\n",
    "## Training Data\n",
    "\n",
    "The training data is taken from the respective Roboflow projects. The data is annotated using either Roboflow or manually via script (Digits)\n",
    "\n",
    "## Models\n",
    "\n",
    "The resulting models are saved in the same directory as the downloaded roboflow datasets \n",
    "\n",
    "\n",
    "\n"
   ]
  },
  {
   "cell_type": "markdown",
   "metadata": {},
   "source": [
    "## Citations and Acknowledgements\n",
    "\n",
    "@software{yolo11_ultralytics,\n",
    "  author = {Glenn Jocher and Jing Qiu},\n",
    "  title = {Ultralytics YOLO11},\n",
    "  version = {11.0.0},\n",
    "  year = {2024},\n",
    "  url = {https://github.com/ultralytics/ultralytics},\n",
    "  orcid = {0000-0001-5950-6979, 0000-0002-7603-6750, 0000-0003-3783-7069},\n",
    "  license = {AGPL-3.0}\n",
    "}"
   ]
  },
  {
   "cell_type": "markdown",
   "metadata": {},
   "source": []
  },
  {
   "cell_type": "code",
   "execution_count": null,
   "metadata": {},
   "outputs": [],
   "source": [
    "# Uses the Ultralytics YOLOv11 Libraries\n",
    "import ultralytics\n",
    "ultralytics.checks()\n",
    "\n",
    "from ultralytics import YOLO\n",
    "import torch\n",
    "\n",
    "# Datasets are stored, annotated, on roboflow\n",
    "from roboflow import Roboflow\n",
    "\n",
    "# Load custom configurations. Variables accessible with config.get('<<VARIABLE_NAME>>')\n",
    "from config import ConfigLoader\n",
    "\n",
    "import os, shutil"
   ]
  },
  {
   "cell_type": "code",
   "execution_count": null,
   "metadata": {},
   "outputs": [],
   "source": [
    "# Load the config variables\n",
    "config = ConfigLoader()\n",
    "\n",
    "print(\"The loaded configuration:\")\n",
    "\n",
    "config.print_config()\n",
    "\n",
    "# Check to see if running on a Mac or not (Apple Silicon)\n",
    "device_to_use = config.get('DEVICE')\n",
    "\n",
    "if torch.backends.mps.is_available():\n",
    "    device_to_use = 'mps'\n",
    "\n",
    "print(f\"Device used for training: {device_to_use}\")\n"
   ]
  },
  {
   "cell_type": "code",
   "execution_count": null,
   "metadata": {},
   "outputs": [],
   "source": [
    "# Load the roboflow datasets\n",
    "\n",
    "rf = Roboflow(api_key=config.get('RF_API_KEY'))\n",
    "workspace = rf.workspace(config.get('RF_WORKSPACE_NAME'))\n",
    "#project = workspace.project(config.get('RF_PROJECT_NAME_DIGITS'))\n",
    "# project = workspace.project(config.get('RF_PROJECT_NAME_FRAME'))\n",
    "project = workspace.project(config.get('RF_PROJECT_NAME_COUNTERS'))\n",
    "\n",
    "# version = project.version(config.get('RF_VERSION_DIGITS'))\n",
    "# version = project.version(config.get('RF_VERSION_FRAME'))\n",
    "version = project.version(config.get('RF_VERSION_COUNTERS'))\n",
    "\n",
    "\n",
    "dataset = version.download(\"yolov11\")\n",
    "# dataset = version.download(\"yolov11\", location=\"../datasets\")\n",
    "print(f\"Dataset Location: {dataset.location}\")\n",
    "\n",
    "\n"
   ]
  },
  {
   "cell_type": "code",
   "execution_count": null,
   "metadata": {},
   "outputs": [],
   "source": [
    "# Train\n",
    "\n",
    "# Load a model\n",
    "model = YOLO(\"yolo11n.pt\")  # load a pretrained model (recommended for training)\n",
    "\n",
    "run_name=os.path.basename(dataset.location)\n",
    "project_name=\"meterreader_YOLO\"\n",
    "\n",
    "# Train the model with MPS\n",
    "results = model.train(data=f\"{dataset.location}/data.yaml\", cache=True, epochs=50, imgsz=[160,160], device=\"mps\", \n",
    "                                                            name=run_name, project=project_name, exist_ok=True)\n",
    "\n",
    "resulting_model = f\"{results.save_dir}/weights/best.pt\""
   ]
  },
  {
   "cell_type": "code",
   "execution_count": null,
   "metadata": {},
   "outputs": [],
   "source": [
    "# Export the trained custom model\n",
    "\n",
    "if results:\n",
    "    trained_model = YOLO(resulting_model)\n",
    "    trained_model.export(device='cpu',  imgsz=[192,800],\n",
    "                 int8=True, data=f\"{dataset.location}/data.yaml\",\n",
    "                 name=run_name, project=project_name, exist_ok=True)\n"
   ]
  },
  {
   "cell_type": "code",
   "execution_count": null,
   "metadata": {},
   "outputs": [],
   "source": [
    "\n",
    "# Load a model\n",
    "print(f\"Loading the model for testing from {resulting_model}\")\n",
    "digits_model = YOLO(resulting_model)  # load prev. trained model\n",
    "\n",
    "images = f\"/Users/yonz/Workspace/images/{run_name}/*.jpg\"\n",
    "\n",
    "# run prediction on some test images\n",
    "results = digits_model(images, device='mps', imgsz=[192,800], conf=0.4, iou=0.5,\n",
    "                        save=True, save_crop =True, save_txt=True,\n",
    "                        name=f\"{run_name}/\", project=f\"{project_name}\", exist_ok=True)\n",
    "\n",
    "\n",
    "print(f\"Done. Processed {len(results)} images\")"
   ]
  }
 ],
 "metadata": {
  "kernelspec": {
   "display_name": ".venv",
   "language": "python",
   "name": "python3"
  },
  "language_info": {
   "codemirror_mode": {
    "name": "ipython",
    "version": 3
   },
   "file_extension": ".py",
   "mimetype": "text/x-python",
   "name": "python",
   "nbconvert_exporter": "python",
   "pygments_lexer": "ipython3",
   "version": "3.12.8"
  }
 },
 "nbformat": 4,
 "nbformat_minor": 2
}
