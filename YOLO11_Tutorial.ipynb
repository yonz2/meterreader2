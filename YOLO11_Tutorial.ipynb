{
  "cells": [
    {
      "cell_type": "code",
      "execution_count": null,
      "metadata": {
        "colab": {
          "base_uri": "https://localhost:8080/"
        },
        "id": "wbvMlHd_QwMG",
        "outputId": "2e992f9f-90bb-4668-de12-fed629975285"
      },
      "outputs": [],
      "source": [
        "# %pip install ultralytics\n",
        "import ultralytics\n",
        "from ultralytics import YOLO\n",
        "from roboflow import Roboflow\n",
        "\n",
        "ultralytics.checks()"
      ]
    },
    {
      "cell_type": "code",
      "execution_count": null,
      "metadata": {
        "id": "ktegpM42AooT"
      },
      "outputs": [],
      "source": [
        "\n",
        "logger = 'TensorBoard' \n",
        "\n",
        "# %load_ext tensorboard\n",
        "# %tensorboard --logdir .\n",
        "\n",
        "print(\"Logger disabled\")"
      ]
    },
    {
      "cell_type": "code",
      "execution_count": null,
      "metadata": {
        "colab": {
          "base_uri": "https://localhost:8080/"
        },
        "id": "1NcFxRcFdJ_O",
        "outputId": "952f35f7-666f-4121-fbdf-2b3a33b28081"
      },
      "outputs": [],
      "source": [
        "\n",
        "\n",
        "rf = Roboflow(api_key=\"IOgzRx9sitOu5Sz6YTOC\")\n",
        "project = rf.workspace(\"meterreader\").project(\"meter-digits-itvsi\")\n",
        "version = project.version(3)\n",
        "dataset = version.download(\"yolov11\", location=\"../datasets\")\n",
        "\n",
        "!ls -lah ../datasets/*            "
      ]
    },
    {
      "cell_type": "code",
      "execution_count": null,
      "metadata": {},
      "outputs": [],
      "source": [
        "# Train\n",
        "\n",
        "# Load a model\n",
        "model = YOLO(\"yolo11n.pt\")  # load a pretrained model (recommended for training)\n",
        "\n",
        "# Train the model with MPS\n",
        "results = model.train(data=\"../datasets/meter-digits-3/data.yaml\", epochs=50, imgsz=180, device=\"mps\")"
      ]
    },
    {
      "cell_type": "code",
      "execution_count": null,
      "metadata": {},
      "outputs": [],
      "source": [
        "logger = 'TensorBoard' \n",
        "\n",
        "%load_ext tensorboard\n",
        "%tensorboard --logdir ./runs"
      ]
    },
    {
      "cell_type": "markdown",
      "metadata": {
        "id": "kUMOQ0OeDBJG"
      },
      "source": [
        "# 5. Python Usage\n",
        "\n",
        "YOLO11 was reimagined using Python-first principles for the most seamless Python YOLO experience yet. YOLO11 models can be loaded from a trained checkpoint or created from scratch. Then methods are used to train, val, predict, and export the model. See detailed Python usage examples in the [YOLO11 Python Docs](https://docs.ultralytics.com/usage/python/)."
      ]
    },
    {
      "cell_type": "code",
      "execution_count": null,
      "metadata": {
        "id": "bpF9-vS_DAaf"
      },
      "outputs": [],
      "source": [
        "\n",
        "# Load a model\n",
        "digits_model = YOLO('/Users/yonz/Workspace/datasets/weights/best.pt')  # load prev. trained model\n",
        "# /Users/yonz/Workspace/datasets/weights\n",
        "# Use the model datasets/weights/best.pt\n",
        "results = model('/Users/yonz/Workspace/images/IMG_6980_digits_192x736.jpg', device='mps', imgsz=[192,736])  # predict on an image\n",
        "\n",
        "for result in results:\n",
        "    result.save(filename=\"detection-result.jpg\")\n",
        "\n",
        "print(\"Done\")"
      ]
    }
  ],
  "metadata": {
    "accelerator": "GPU",
    "colab": {
      "provenance": [],
      "toc_visible": true
    },
    "kernelspec": {
      "display_name": ".venv",
      "language": "python",
      "name": "python3"
    },
    "language_info": {
      "codemirror_mode": {
        "name": "ipython",
        "version": 3
      },
      "file_extension": ".py",
      "mimetype": "text/x-python",
      "name": "python",
      "nbconvert_exporter": "python",
      "pygments_lexer": "ipython3",
      "version": "3.12.8"
    }
  },
  "nbformat": 4,
  "nbformat_minor": 0
}
